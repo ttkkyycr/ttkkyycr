{
 "cells": [
  {
   "cell_type": "code",
   "execution_count": 1,
   "id": "c843607e",
   "metadata": {
    "scrolled": false
   },
   "outputs": [],
   "source": [
    "# pip install pandas\n",
    "\n",
    "# pip install matplotlib"
   ]
  },
  {
   "cell_type": "code",
   "execution_count": 2,
   "id": "5df6b4ba",
   "metadata": {},
   "outputs": [],
   "source": [
    "# pip install -U scikit-learn"
   ]
  },
  {
   "cell_type": "code",
   "execution_count": 3,
   "id": "30499d11",
   "metadata": {
    "scrolled": true
   },
   "outputs": [],
   "source": [
    "# 导入库\n",
    "import numpy as np\n",
    "import pandas as pd\n",
    "import matplotlib.pyplot as plt\n",
    "%matplotlib inline\n",
    "plt.style.use('ggplot')\n",
    "import warnings; warnings.simplefilter('ignore')"
   ]
  },
  {
   "cell_type": "code",
   "execution_count": 4,
   "id": "c469d8c8",
   "metadata": {
    "scrolled": false
   },
   "outputs": [],
   "source": [
    "# 读取数据\n",
    "df = pd.read_csv(\"https://raw.githubusercontent.com/ttkkyycr/ttkkyycr/main/data2.csv\")\n",
    "X = df.drop(['Name','ORR'], axis=1)\n",
    "Y = df['ORR']"
   ]
  },
  {
   "cell_type": "code",
   "execution_count": 5,
   "id": "fd116ad6",
   "metadata": {
    "scrolled": false
   },
   "outputs": [
    {
     "data": {
      "text/html": [
       "<div>\n",
       "<style scoped>\n",
       "    .dataframe tbody tr th:only-of-type {\n",
       "        vertical-align: middle;\n",
       "    }\n",
       "\n",
       "    .dataframe tbody tr th {\n",
       "        vertical-align: top;\n",
       "    }\n",
       "\n",
       "    .dataframe thead th {\n",
       "        text-align: right;\n",
       "    }\n",
       "</style>\n",
       "<table border=\"1\" class=\"dataframe\">\n",
       "  <thead>\n",
       "    <tr style=\"text-align: right;\">\n",
       "      <th></th>\n",
       "      <th>Name</th>\n",
       "      <th>ORR</th>\n",
       "      <th>original.shape.VoxelVolume</th>\n",
       "      <th>original.shape.Maximum3DDiameter</th>\n",
       "      <th>original.shape.MeshVolume</th>\n",
       "      <th>original.shape.MajorAxisLength</th>\n",
       "      <th>original.shape.Sphericity</th>\n",
       "      <th>original.shape.LeastAxisLength</th>\n",
       "      <th>original.shape.Elongation</th>\n",
       "      <th>original.shape.SurfaceVolumeRatio</th>\n",
       "      <th>...</th>\n",
       "      <th>original.glszm.HighGrayLevelZoneEmphasis</th>\n",
       "      <th>original.glszm.SmallAreaEmphasis</th>\n",
       "      <th>original.glszm.LowGrayLevelZoneEmphasis</th>\n",
       "      <th>original.glszm.ZoneEntropy</th>\n",
       "      <th>original.glszm.SmallAreaLowGrayLevelEmphasis</th>\n",
       "      <th>original.ngtdm.Coarseness</th>\n",
       "      <th>original.ngtdm.Complexity</th>\n",
       "      <th>original.ngtdm.Strength</th>\n",
       "      <th>original.ngtdm.Contrast</th>\n",
       "      <th>original.ngtdm.Busyness</th>\n",
       "    </tr>\n",
       "  </thead>\n",
       "  <tbody>\n",
       "    <tr>\n",
       "      <th>0</th>\n",
       "      <td>Chen Zhi</td>\n",
       "      <td>1</td>\n",
       "      <td>72932.16866</td>\n",
       "      <td>89.441729</td>\n",
       "      <td>72614.8736</td>\n",
       "      <td>70.159054</td>\n",
       "      <td>0.634966</td>\n",
       "      <td>39.262714</td>\n",
       "      <td>0.698354</td>\n",
       "      <td>0.182554</td>\n",
       "      <td>...</td>\n",
       "      <td>36.574586</td>\n",
       "      <td>0.588562</td>\n",
       "      <td>0.053748</td>\n",
       "      <td>4.970060</td>\n",
       "      <td>0.031939</td>\n",
       "      <td>0.000485</td>\n",
       "      <td>32.022850</td>\n",
       "      <td>0.027264</td>\n",
       "      <td>0.010364</td>\n",
       "      <td>22.211334</td>\n",
       "    </tr>\n",
       "    <tr>\n",
       "      <th>1</th>\n",
       "      <td>Deng Long Zai</td>\n",
       "      <td>1</td>\n",
       "      <td>340027.46100</td>\n",
       "      <td>118.286786</td>\n",
       "      <td>339790.5327</td>\n",
       "      <td>100.180269</td>\n",
       "      <td>0.664348</td>\n",
       "      <td>66.254038</td>\n",
       "      <td>0.732715</td>\n",
       "      <td>0.104316</td>\n",
       "      <td>...</td>\n",
       "      <td>81.068342</td>\n",
       "      <td>0.640000</td>\n",
       "      <td>0.015946</td>\n",
       "      <td>4.503021</td>\n",
       "      <td>0.010451</td>\n",
       "      <td>0.000045</td>\n",
       "      <td>72.361118</td>\n",
       "      <td>0.006376</td>\n",
       "      <td>0.005735</td>\n",
       "      <td>105.228890</td>\n",
       "    </tr>\n",
       "  </tbody>\n",
       "</table>\n",
       "<p>2 rows × 109 columns</p>\n",
       "</div>"
      ],
      "text/plain": [
       "            Name  ORR  original.shape.VoxelVolume  \\\n",
       "0       Chen Zhi    1                 72932.16866   \n",
       "1  Deng Long Zai    1                340027.46100   \n",
       "\n",
       "   original.shape.Maximum3DDiameter  original.shape.MeshVolume  \\\n",
       "0                         89.441729                 72614.8736   \n",
       "1                        118.286786                339790.5327   \n",
       "\n",
       "   original.shape.MajorAxisLength  original.shape.Sphericity  \\\n",
       "0                       70.159054                   0.634966   \n",
       "1                      100.180269                   0.664348   \n",
       "\n",
       "   original.shape.LeastAxisLength  original.shape.Elongation  \\\n",
       "0                       39.262714                   0.698354   \n",
       "1                       66.254038                   0.732715   \n",
       "\n",
       "   original.shape.SurfaceVolumeRatio  ...  \\\n",
       "0                           0.182554  ...   \n",
       "1                           0.104316  ...   \n",
       "\n",
       "   original.glszm.HighGrayLevelZoneEmphasis  original.glszm.SmallAreaEmphasis  \\\n",
       "0                                 36.574586                          0.588562   \n",
       "1                                 81.068342                          0.640000   \n",
       "\n",
       "   original.glszm.LowGrayLevelZoneEmphasis  original.glszm.ZoneEntropy  \\\n",
       "0                                 0.053748                    4.970060   \n",
       "1                                 0.015946                    4.503021   \n",
       "\n",
       "   original.glszm.SmallAreaLowGrayLevelEmphasis  original.ngtdm.Coarseness  \\\n",
       "0                                      0.031939                   0.000485   \n",
       "1                                      0.010451                   0.000045   \n",
       "\n",
       "   original.ngtdm.Complexity  original.ngtdm.Strength  \\\n",
       "0                  32.022850                 0.027264   \n",
       "1                  72.361118                 0.006376   \n",
       "\n",
       "   original.ngtdm.Contrast  original.ngtdm.Busyness  \n",
       "0                 0.010364                22.211334  \n",
       "1                 0.005735               105.228890  \n",
       "\n",
       "[2 rows x 109 columns]"
      ]
     },
     "execution_count": 5,
     "metadata": {},
     "output_type": "execute_result"
    }
   ],
   "source": [
    "df.iloc[[0,1]]"
   ]
  },
  {
   "cell_type": "code",
   "execution_count": 6,
   "id": "aed10472",
   "metadata": {},
   "outputs": [],
   "source": [
    "# 数据标准化与归一化\n",
    "from sklearn.preprocessing import StandardScaler\n",
    "\n",
    "scaler = StandardScaler()\n",
    "X_SS = scaler.fit_transform(X)\n",
    "X_SS = pd.DataFrame(X_SS)\n",
    "X_SS.columns = X.columns\n",
    "X = X_SS\n",
    "y = Y"
   ]
  },
  {
   "cell_type": "code",
   "execution_count": 7,
   "id": "12efcf9f",
   "metadata": {},
   "outputs": [],
   "source": [
    "# 将数据分为测试集与训练集（可选）\n",
    "from sklearn.model_selection import train_test_split\n",
    "X_train, X_test, y_train, y_test = train_test_split(X, y, test_size=0.25, random_state=10)\n"
   ]
  },
  {
   "cell_type": "code",
   "execution_count": 8,
   "id": "c76e6bce",
   "metadata": {},
   "outputs": [],
   "source": [
    "# from sklearn.linear_model import Lasso\n",
    "\n",
    "# reg = Lasso(alpha=0.5)\n",
    "# reg.fit(X_train, y_train)\n",
    "\n",
    "# Lasso(alpha=0.5, copy_X=True, fit_intercept=True, max_iter=1000,\n",
    "#    normalize=False, positive=False, precompute=False, random_state=None,\n",
    "#    selection='cyclic', tol=0.0001, warm_start=False)\n",
    "\n",
    "# print('Lasso Regression: R^2 score on training set', reg.score(X_train, y_train)*100)\n",
    "# print('Lasso Regression: R^2 score on test set', reg.score(X_test, y_test)*100)"
   ]
  },
  {
   "cell_type": "code",
   "execution_count": 9,
   "id": "9207f4a1",
   "metadata": {},
   "outputs": [],
   "source": [
    "# lambdas = (0.001, 0.01, 0.1, 0.5, 1, 2, 10)\n",
    "# l_num = 7\n",
    "# pred_num = X.shape[1]\n",
    "\n",
    "# # prepare data for enumerate\n",
    "# coeff_a = np.zeros((l_num, pred_num))\n",
    "# train_r_squared = np.zeros(l_num)\n",
    "# test_r_squared = np.zeros(l_num)\n",
    "\n",
    "# # enumerate through lambdas with index and i\n",
    "# for ind, i in enumerate(lambdas):    \n",
    "#     reg = Lasso(alpha = i)\n",
    "#     reg.fit(X_train, y_train)\n",
    "\n",
    "#     coeff_a[ind,:] = reg.coef_\n",
    "#     train_r_squared[ind] = reg.score(X_train, y_train)\n",
    "#     test_r_squared[ind] = reg.score(X_test, y_test)"
   ]
  },
  {
   "cell_type": "code",
   "execution_count": 10,
   "id": "9f2143af",
   "metadata": {},
   "outputs": [],
   "source": [
    "# # Plotting\n",
    "# plt.figure(figsize=(18, 8))\n",
    "# plt.plot(train_r_squared, 'bo-', label=r'$R^2$ Training set', color=\"darkblue\", alpha=0.6, linewidth=3)\n",
    "# plt.plot(test_r_squared, 'bo-', label=r'$R^2$ Test set', color=\"darkred\", alpha=0.6, linewidth=3)\n",
    "# plt.xlabel('Lamda index'); plt.ylabel(r'$R^2$')\n",
    "# plt.xlim(0, 6)\n",
    "# plt.title(r'Evaluate lasso regression with lamdas: 0 = 0.001, 1= 0.01, 2 = 0.1, 3 = 0.5, 4= 1, 5= 2, 6 = 10')\n",
    "# plt.legend(loc='best')\n",
    "# plt.grid()"
   ]
  },
  {
   "cell_type": "code",
   "execution_count": 11,
   "id": "82d25992",
   "metadata": {},
   "outputs": [],
   "source": [
    "# # 通过不确定的alphas值，生成不同的LASSO回归模型\n",
    "# alphas = 10**np.linspace(-3,3,100)\n",
    "# lasso_cofficients = []\n",
    "\n",
    "# for alpha in alphas:\n",
    "#     lasso = Lasso(alpha = alpha, normalize=True, max_iter=10000)\n",
    "#     lasso.fit(X_SS, y)\n",
    "#     lasso_cofficients.append(lasso.coef_)\n",
    "\n",
    "# # 绘制alpha的对数与回归系数的关系# 中文乱码和坐标轴负号的处理\n",
    "# plt.rcParams['font.sans-serif'] = ['Microsoft YaHei']\n",
    "# plt.rcParams['axes.unicode_minus'] = False\n",
    "# # 设置绘图风格\n",
    "# plt.style.use('ggplot')\n",
    "# plt.plot(alphas, lasso_cofficients)\n",
    "# plt.xscale('log')\n",
    "# plt.axis('tight')\n",
    "# plt.title('alpha系数与LASSO回归系数的关系')\n",
    "# plt.xlabel('Log Alpha')\n",
    "# plt.ylabel('Cofficients')\n",
    "# plt.show()"
   ]
  },
  {
   "cell_type": "code",
   "execution_count": 12,
   "id": "793d8d71",
   "metadata": {},
   "outputs": [
    {
     "data": {
      "text/plain": [
       "0.022229964825261943"
      ]
     },
     "execution_count": 12,
     "metadata": {},
     "output_type": "execute_result"
    }
   ],
   "source": [
    "# LASSO回归模型的交叉验证\n",
    "from sklearn.linear_model import Lasso,LassoCV\n",
    "from sklearn.metrics import mean_squared_error\n",
    "\n",
    "alphas = np.logspace(-3,0,50)\n",
    "lasso_cv = LassoCV(alphas=alphas, normalize=True, cv = 10, max_iter=100000)\n",
    "lasso_cv.fit(X_SS, y)\n",
    "# 取出最佳的lambda值\n",
    "lasso_best_alpha = lasso_cv.alpha_\n",
    "lasso_best_alpha"
   ]
  },
  {
   "cell_type": "code",
   "execution_count": 13,
   "id": "3a680ab3",
   "metadata": {
    "scrolled": false
   },
   "outputs": [
    {
     "data": {
      "text/plain": [
       "array([-0.        , -0.        , -0.        , -0.        ,  0.05701984,\n",
       "       -0.        ,  0.        , -0.        , -0.01141438,  0.        ,\n",
       "       -0.        , -0.        , -0.        , -0.        , -0.        ,\n",
       "       -0.        , -0.        , -0.        , -0.        , -0.        ,\n",
       "       -0.        , -0.        , -0.        ,  0.        ,  0.        ,\n",
       "       -0.        ,  0.08442077,  0.        , -0.        , -0.        ,\n",
       "       -0.        , -0.        ,  0.        , -0.        ,  0.        ,\n",
       "       -0.        , -0.        ,  0.        , -0.        , -0.07512755,\n",
       "        0.        , -0.        , -0.        , -0.        , -0.07463616,\n",
       "       -0.        , -0.        , -0.        ,  0.        , -0.        ,\n",
       "        0.        , -0.        , -0.        , -0.        ,  0.        ,\n",
       "       -0.        ,  0.        , -0.        , -0.        ,  0.        ,\n",
       "       -0.        , -0.        , -0.        ,  0.        , -0.        ,\n",
       "       -0.        , -0.        , -0.        , -0.        , -0.        ,\n",
       "        0.        , -0.        ,  0.        ,  0.        , -0.        ,\n",
       "       -0.        , -0.        , -0.        , -0.        ,  0.        ,\n",
       "       -0.03054445, -0.        ,  0.        , -0.        , -0.        ,\n",
       "        0.        , -0.        , -0.        ,  0.        ,  0.        ,\n",
       "        0.        , -0.        , -0.        , -0.        , -0.        ,\n",
       "       -0.        , -0.        , -0.        ,  0.        ,  0.        ,\n",
       "       -0.        ,  0.01489369,  0.        , -0.        , -0.        ,\n",
       "        0.        ,  0.        ])"
      ]
     },
     "execution_count": 13,
     "metadata": {},
     "output_type": "execute_result"
    }
   ],
   "source": [
    "# LassoCV建模结果\n",
    "lasso_cv.coef_"
   ]
  },
  {
   "cell_type": "code",
   "execution_count": 14,
   "id": "851f2ede",
   "metadata": {
    "scrolled": true
   },
   "outputs": [],
   "source": [
    "# # 基于最佳的lambda值运用Lasso建模\n",
    "# lasso = Lasso(alpha = lasso_best_alpha, normalize=True, max_iter=10000)\n",
    "# lasso.fit(X_train, y_train)\n",
    "\n",
    "# print('Lasso Regression: R^2 score on training set', reg.score(X_train, y_train)*100)\n",
    "# print('Lasso Regression: R^2 score on test set', reg.score(X_test, y_test)*100)"
   ]
  },
  {
   "cell_type": "code",
   "execution_count": 15,
   "id": "d79f5361",
   "metadata": {
    "scrolled": true
   },
   "outputs": [
    {
     "data": {
      "text/plain": [
       "Index(['original.shape.Sphericity', 'original.shape.Maximum2DDiameterSlice',\n",
       "       'original.gldm.SmallDependenceLowGrayLevelEmphasis',\n",
       "       'original.glcm.Idn', 'original.glcm.MCC',\n",
       "       'original.glrlm.LongRunHighGrayLevelEmphasis',\n",
       "       'original.glszm.SmallAreaLowGrayLevelEmphasis'],\n",
       "      dtype='object')"
      ]
     },
     "execution_count": 15,
     "metadata": {},
     "output_type": "execute_result"
    }
   ],
   "source": [
    "X.columns[lasso_cv.coef_!=0]"
   ]
  },
  {
   "cell_type": "code",
   "execution_count": 16,
   "id": "b0b6b95f",
   "metadata": {
    "scrolled": false
   },
   "outputs": [
    {
     "name": "stdout",
     "output_type": "stream",
     "text": [
      "original.shape.Sphericity                            0.057020\n",
      "original.shape.Maximum2DDiameterSlice               -0.011414\n",
      "original.gldm.SmallDependenceLowGrayLevelEmphasis    0.084421\n",
      "original.glcm.Idn                                   -0.075128\n",
      "original.glcm.MCC                                   -0.074636\n",
      "original.glrlm.LongRunHighGrayLevelEmphasis         -0.030544\n",
      "original.glszm.SmallAreaLowGrayLevelEmphasis         0.014894\n",
      "dtype: float64\n"
     ]
    }
   ],
   "source": [
    "coef = pd.Series(lasso_cv.coef_, index = X.columns)\n",
    "index = coef[coef !=0].index\n",
    "\n",
    "print(coef[coef !=0])"
   ]
  },
  {
   "cell_type": "code",
   "execution_count": 17,
   "id": "df10cde4",
   "metadata": {},
   "outputs": [
    {
     "data": {
      "image/png": "[encoded data removed]",
      "text/plain": [
       "<Figure size 432x288 with 1 Axes>"
      ]
     },
     "metadata": {
      "needs_background": "light"
     },
     "output_type": "display_data"
    }
   ],
   "source": [
    "# 绘制特征权重图\n",
    "import matplotlib.pyplot as plt\n",
    "%matplotlib inline\n",
    "\n",
    "x_values = np.arange(len(index))\n",
    "y_values = coef[coef !=0]\n",
    "plt.bar(x_values, y_values\n",
    "        , color = 'lightblue'\n",
    "        , edgecolor = 'black'\n",
    "        , alpha = 0.8\n",
    "       )\n",
    "plt.xticks(x_values,index\n",
    "           , rotation='45'\n",
    "           , ha = 'right'\n",
    "            ,va = 'top'\n",
    "          )\n",
    "plt.xlabel('feature')\n",
    "plt.ylabel('weight')\n",
    "plt.show()"
   ]
  },
  {
   "cell_type": "code",
   "execution_count": 18,
   "id": "fa340927",
   "metadata": {
    "scrolled": false
   },
   "outputs": [
    {
     "ename": "NameError",
     "evalue": "name 'MultipleLocator' is not defined",
     "output_type": "error",
     "traceback": [
      "\u001b[1;31m---------------------------------------------------------------------------\u001b[0m",
      "\u001b[1;31mNameError\u001b[0m                                 Traceback (most recent call last)",
      "\u001b[1;32m~\\AppData\\Local\\Temp/ipykernel_8360/776997983.py\u001b[0m in \u001b[0;36m<module>\u001b[1;34m\u001b[0m\n\u001b[0;32m     21\u001b[0m \u001b[0mplt\u001b[0m\u001b[1;33m.\u001b[0m\u001b[0mylabel\u001b[0m\u001b[1;33m(\u001b[0m\u001b[1;34m'MSE'\u001b[0m\u001b[1;33m)\u001b[0m\u001b[1;33m\u001b[0m\u001b[0m\n\u001b[0;32m     22\u001b[0m \u001b[0max\u001b[0m \u001b[1;33m=\u001b[0m \u001b[0mplt\u001b[0m\u001b[1;33m.\u001b[0m\u001b[0mgca\u001b[0m\u001b[1;33m(\u001b[0m\u001b[1;33m)\u001b[0m\u001b[1;33m\u001b[0m\u001b[0m\n\u001b[1;32m---> 23\u001b[1;33m \u001b[0my_major_locator\u001b[0m \u001b[1;33m=\u001b[0m \u001b[0mMultipleLocator\u001b[0m\u001b[1;33m(\u001b[0m\u001b[1;36m0.05\u001b[0m\u001b[1;33m)\u001b[0m\u001b[1;33m\u001b[0m\u001b[0m\n\u001b[0m\u001b[0;32m     24\u001b[0m \u001b[0max\u001b[0m\u001b[1;33m.\u001b[0m\u001b[0myaxis\u001b[0m\u001b[1;33m.\u001b[0m\u001b[0mset_major_locator\u001b[0m\u001b[1;33m(\u001b[0m\u001b[0my_major_locator\u001b[0m\u001b[1;33m)\u001b[0m\u001b[1;33m\u001b[0m\u001b[0m\n\u001b[0;32m     25\u001b[0m \u001b[0mplt\u001b[0m\u001b[1;33m.\u001b[0m\u001b[0mshow\u001b[0m\u001b[1;33m\u001b[0m\u001b[0m\n",
      "\u001b[1;31mNameError\u001b[0m: name 'MultipleLocator' is not defined"
     ]
    },
    {
     "data": {
      "image/png": "[encoded data removed]",
      "text/plain": [
       "<Figure size 432x288 with 1 Axes>"
      ]
     },
     "metadata": {
      "needs_background": "light"
     },
     "output_type": "display_data"
    }
   ],
   "source": [
    "# Lambda图_\n",
    "MSEs = lasso_cv.mse_path_\n",
    "\n",
    "MSEs_mean = np.apply_along_axis(np.mean,1,MSEs)\n",
    "MSEs_std = np.apply_along_axis(np.std,1,MSEs)\n",
    "\n",
    "plt.figure() #dpi=300\n",
    "plt.errorbar(lasso_cv.alphas_, MSEs_mean\n",
    "            , yerr=MSEs_std\n",
    "            , fmt=\"o\"\n",
    "            , ms=3\n",
    "            , mfc=\"r\"\n",
    "            , mec=\"r\"\n",
    "            , ecolor=\"lightblue\"\n",
    "            , elinewidth=2\n",
    "            , capsize=4\n",
    "            , capthick=1)\n",
    "plt.semilogx()\n",
    "plt.axvline(lasso_cv.alpha_, color='black',ls='--')\n",
    "plt.xlabel('Lambda')\n",
    "plt.ylabel('MSE')\n",
    "ax = plt.gca()\n",
    "y_major_locator = MultipleLocator(0.05)\n",
    "ax.yaxis.set_major_locator(y_major_locator)\n",
    "plt.show"
   ]
  },
  {
   "cell_type": "code",
   "execution_count": 19,
   "id": "5418e579",
   "metadata": {},
   "outputs": [
    {
     "data": {
      "text/html": [
       "<div>\n",
       "<style scoped>\n",
       "    .dataframe tbody tr th:only-of-type {\n",
       "        vertical-align: middle;\n",
       "    }\n",
       "\n",
       "    .dataframe tbody tr th {\n",
       "        vertical-align: top;\n",
       "    }\n",
       "\n",
       "    .dataframe thead th {\n",
       "        text-align: right;\n",
       "    }\n",
       "</style>\n",
       "<table border=\"1\" class=\"dataframe\">\n",
       "  <thead>\n",
       "    <tr style=\"text-align: right;\">\n",
       "      <th></th>\n",
       "      <th>original.shape.Sphericity</th>\n",
       "      <th>original.shape.Maximum2DDiameterSlice</th>\n",
       "      <th>original.gldm.SmallDependenceLowGrayLevelEmphasis</th>\n",
       "      <th>original.glcm.Idn</th>\n",
       "      <th>original.glcm.MCC</th>\n",
       "      <th>original.glrlm.LongRunHighGrayLevelEmphasis</th>\n",
       "      <th>original.glszm.SmallAreaLowGrayLevelEmphasis</th>\n",
       "    </tr>\n",
       "  </thead>\n",
       "  <tbody>\n",
       "    <tr>\n",
       "      <th>0</th>\n",
       "      <td>0.302521</td>\n",
       "      <td>-1.074269</td>\n",
       "      <td>1.881111</td>\n",
       "      <td>-1.186314</td>\n",
       "      <td>-1.146018</td>\n",
       "      <td>-0.671789</td>\n",
       "      <td>1.879805</td>\n",
       "    </tr>\n",
       "    <tr>\n",
       "      <th>1</th>\n",
       "      <td>0.828694</td>\n",
       "      <td>0.344398</td>\n",
       "      <td>-0.225124</td>\n",
       "      <td>-0.739870</td>\n",
       "      <td>-1.280120</td>\n",
       "      <td>-0.548513</td>\n",
       "      <td>-0.293106</td>\n",
       "    </tr>\n",
       "    <tr>\n",
       "      <th>2</th>\n",
       "      <td>-0.472820</td>\n",
       "      <td>-0.439512</td>\n",
       "      <td>-1.125611</td>\n",
       "      <td>1.314683</td>\n",
       "      <td>1.260173</td>\n",
       "      <td>2.351706</td>\n",
       "      <td>-1.297865</td>\n",
       "    </tr>\n",
       "    <tr>\n",
       "      <th>3</th>\n",
       "      <td>-1.270269</td>\n",
       "      <td>1.852235</td>\n",
       "      <td>-0.699989</td>\n",
       "      <td>1.021994</td>\n",
       "      <td>1.178780</td>\n",
       "      <td>-0.172125</td>\n",
       "      <td>-1.115463</td>\n",
       "    </tr>\n",
       "    <tr>\n",
       "      <th>4</th>\n",
       "      <td>-1.037350</td>\n",
       "      <td>-0.271736</td>\n",
       "      <td>1.477840</td>\n",
       "      <td>-1.268712</td>\n",
       "      <td>-1.138042</td>\n",
       "      <td>-0.658642</td>\n",
       "      <td>1.633581</td>\n",
       "    </tr>\n",
       "    <tr>\n",
       "      <th>5</th>\n",
       "      <td>-0.682053</td>\n",
       "      <td>1.267116</td>\n",
       "      <td>-0.557589</td>\n",
       "      <td>0.023608</td>\n",
       "      <td>0.440095</td>\n",
       "      <td>-0.455761</td>\n",
       "      <td>0.135653</td>\n",
       "    </tr>\n",
       "    <tr>\n",
       "      <th>6</th>\n",
       "      <td>-0.258169</td>\n",
       "      <td>-0.341645</td>\n",
       "      <td>0.318028</td>\n",
       "      <td>-0.649166</td>\n",
       "      <td>-0.432252</td>\n",
       "      <td>-0.600102</td>\n",
       "      <td>1.031807</td>\n",
       "    </tr>\n",
       "    <tr>\n",
       "      <th>7</th>\n",
       "      <td>0.857563</td>\n",
       "      <td>-0.123955</td>\n",
       "      <td>-1.083978</td>\n",
       "      <td>1.198554</td>\n",
       "      <td>1.110358</td>\n",
       "      <td>0.879747</td>\n",
       "      <td>-1.253613</td>\n",
       "    </tr>\n",
       "    <tr>\n",
       "      <th>8</th>\n",
       "      <td>-0.030269</td>\n",
       "      <td>-1.182634</td>\n",
       "      <td>1.747562</td>\n",
       "      <td>-0.662593</td>\n",
       "      <td>-1.057940</td>\n",
       "      <td>-0.673681</td>\n",
       "      <td>1.033127</td>\n",
       "    </tr>\n",
       "    <tr>\n",
       "      <th>9</th>\n",
       "      <td>0.865427</td>\n",
       "      <td>-1.918920</td>\n",
       "      <td>0.575553</td>\n",
       "      <td>-0.614986</td>\n",
       "      <td>-0.503871</td>\n",
       "      <td>-0.612779</td>\n",
       "      <td>0.464263</td>\n",
       "    </tr>\n",
       "    <tr>\n",
       "      <th>10</th>\n",
       "      <td>-0.337458</td>\n",
       "      <td>1.379670</td>\n",
       "      <td>-1.154838</td>\n",
       "      <td>1.239257</td>\n",
       "      <td>0.382295</td>\n",
       "      <td>1.164948</td>\n",
       "      <td>-1.043770</td>\n",
       "    </tr>\n",
       "    <tr>\n",
       "      <th>11</th>\n",
       "      <td>-0.940804</td>\n",
       "      <td>-0.056528</td>\n",
       "      <td>-1.177478</td>\n",
       "      <td>1.186573</td>\n",
       "      <td>1.333289</td>\n",
       "      <td>1.349842</td>\n",
       "      <td>-1.230799</td>\n",
       "    </tr>\n",
       "    <tr>\n",
       "      <th>12</th>\n",
       "      <td>0.906140</td>\n",
       "      <td>-0.664280</td>\n",
       "      <td>-1.190110</td>\n",
       "      <td>1.544299</td>\n",
       "      <td>1.178634</td>\n",
       "      <td>1.233813</td>\n",
       "      <td>-1.199389</td>\n",
       "    </tr>\n",
       "    <tr>\n",
       "      <th>13</th>\n",
       "      <td>-0.691688</td>\n",
       "      <td>0.413493</td>\n",
       "      <td>1.156809</td>\n",
       "      <td>-1.789699</td>\n",
       "      <td>-1.743063</td>\n",
       "      <td>-0.642240</td>\n",
       "      <td>0.256141</td>\n",
       "    </tr>\n",
       "    <tr>\n",
       "      <th>14</th>\n",
       "      <td>0.444537</td>\n",
       "      <td>-1.131020</td>\n",
       "      <td>0.594210</td>\n",
       "      <td>-0.768044</td>\n",
       "      <td>-0.770005</td>\n",
       "      <td>-0.621980</td>\n",
       "      <td>0.617114</td>\n",
       "    </tr>\n",
       "    <tr>\n",
       "      <th>15</th>\n",
       "      <td>0.799916</td>\n",
       "      <td>1.281729</td>\n",
       "      <td>0.060547</td>\n",
       "      <td>-0.732505</td>\n",
       "      <td>-0.798385</td>\n",
       "      <td>-0.581904</td>\n",
       "      <td>-0.035710</td>\n",
       "    </tr>\n",
       "    <tr>\n",
       "      <th>16</th>\n",
       "      <td>0.584584</td>\n",
       "      <td>-0.649946</td>\n",
       "      <td>-0.844426</td>\n",
       "      <td>1.310781</td>\n",
       "      <td>1.683831</td>\n",
       "      <td>-0.270549</td>\n",
       "      <td>-1.039564</td>\n",
       "    </tr>\n",
       "    <tr>\n",
       "      <th>17</th>\n",
       "      <td>1.085146</td>\n",
       "      <td>1.112882</td>\n",
       "      <td>-1.237072</td>\n",
       "      <td>1.050112</td>\n",
       "      <td>0.803140</td>\n",
       "      <td>2.718402</td>\n",
       "      <td>-1.269444</td>\n",
       "    </tr>\n",
       "    <tr>\n",
       "      <th>18</th>\n",
       "      <td>-1.075042</td>\n",
       "      <td>-0.750063</td>\n",
       "      <td>0.849625</td>\n",
       "      <td>-0.107676</td>\n",
       "      <td>0.586129</td>\n",
       "      <td>-0.618886</td>\n",
       "      <td>1.117389</td>\n",
       "    </tr>\n",
       "    <tr>\n",
       "      <th>19</th>\n",
       "      <td>2.291851</td>\n",
       "      <td>1.347427</td>\n",
       "      <td>-0.730917</td>\n",
       "      <td>-0.268508</td>\n",
       "      <td>-1.356650</td>\n",
       "      <td>-0.341495</td>\n",
       "      <td>-0.596111</td>\n",
       "    </tr>\n",
       "    <tr>\n",
       "      <th>20</th>\n",
       "      <td>-0.528805</td>\n",
       "      <td>-0.864756</td>\n",
       "      <td>1.449122</td>\n",
       "      <td>-1.067071</td>\n",
       "      <td>-0.330437</td>\n",
       "      <td>-0.659856</td>\n",
       "      <td>1.311429</td>\n",
       "    </tr>\n",
       "    <tr>\n",
       "      <th>21</th>\n",
       "      <td>-2.416629</td>\n",
       "      <td>1.120669</td>\n",
       "      <td>-0.146144</td>\n",
       "      <td>-0.360990</td>\n",
       "      <td>0.074564</td>\n",
       "      <td>-0.586786</td>\n",
       "      <td>0.192975</td>\n",
       "    </tr>\n",
       "    <tr>\n",
       "      <th>22</th>\n",
       "      <td>1.023009</td>\n",
       "      <td>-0.833000</td>\n",
       "      <td>0.178464</td>\n",
       "      <td>0.905500</td>\n",
       "      <td>-0.117992</td>\n",
       "      <td>-0.589434</td>\n",
       "      <td>0.517857</td>\n",
       "    </tr>\n",
       "    <tr>\n",
       "      <th>23</th>\n",
       "      <td>-0.248033</td>\n",
       "      <td>0.182647</td>\n",
       "      <td>-0.115595</td>\n",
       "      <td>-0.579227</td>\n",
       "      <td>0.643488</td>\n",
       "      <td>-0.391933</td>\n",
       "      <td>0.183693</td>\n",
       "    </tr>\n",
       "  </tbody>\n",
       "</table>\n",
       "</div>"
      ],
      "text/plain": [
       "    original.shape.Sphericity  original.shape.Maximum2DDiameterSlice  \\\n",
       "0                    0.302521                              -1.074269   \n",
       "1                    0.828694                               0.344398   \n",
       "2                   -0.472820                              -0.439512   \n",
       "3                   -1.270269                               1.852235   \n",
       "4                   -1.037350                              -0.271736   \n",
       "5                   -0.682053                               1.267116   \n",
       "6                   -0.258169                              -0.341645   \n",
       "7                    0.857563                              -0.123955   \n",
       "8                   -0.030269                              -1.182634   \n",
       "9                    0.865427                              -1.918920   \n",
       "10                  -0.337458                               1.379670   \n",
       "11                  -0.940804                              -0.056528   \n",
       "12                   0.906140                              -0.664280   \n",
       "13                  -0.691688                               0.413493   \n",
       "14                   0.444537                              -1.131020   \n",
       "15                   0.799916                               1.281729   \n",
       "16                   0.584584                              -0.649946   \n",
       "17                   1.085146                               1.112882   \n",
       "18                  -1.075042                              -0.750063   \n",
       "19                   2.291851                               1.347427   \n",
       "20                  -0.528805                              -0.864756   \n",
       "21                  -2.416629                               1.120669   \n",
       "22                   1.023009                              -0.833000   \n",
       "23                  -0.248033                               0.182647   \n",
       "\n",
       "    original.gldm.SmallDependenceLowGrayLevelEmphasis  original.glcm.Idn  \\\n",
       "0                                            1.881111          -1.186314   \n",
       "1                                           -0.225124          -0.739870   \n",
       "2                                           -1.125611           1.314683   \n",
       "3                                           -0.699989           1.021994   \n",
       "4                                            1.477840          -1.268712   \n",
       "5                                           -0.557589           0.023608   \n",
       "6                                            0.318028          -0.649166   \n",
       "7                                           -1.083978           1.198554   \n",
       "8                                            1.747562          -0.662593   \n",
       "9                                            0.575553          -0.614986   \n",
       "10                                          -1.154838           1.239257   \n",
       "11                                          -1.177478           1.186573   \n",
       "12                                          -1.190110           1.544299   \n",
       "13                                           1.156809          -1.789699   \n",
       "14                                           0.594210          -0.768044   \n",
       "15                                           0.060547          -0.732505   \n",
       "16                                          -0.844426           1.310781   \n",
       "17                                          -1.237072           1.050112   \n",
       "18                                           0.849625          -0.107676   \n",
       "19                                          -0.730917          -0.268508   \n",
       "20                                           1.449122          -1.067071   \n",
       "21                                          -0.146144          -0.360990   \n",
       "22                                           0.178464           0.905500   \n",
       "23                                          -0.115595          -0.579227   \n",
       "\n",
       "    original.glcm.MCC  original.glrlm.LongRunHighGrayLevelEmphasis  \\\n",
       "0           -1.146018                                    -0.671789   \n",
       "1           -1.280120                                    -0.548513   \n",
       "2            1.260173                                     2.351706   \n",
       "3            1.178780                                    -0.172125   \n",
       "4           -1.138042                                    -0.658642   \n",
       "5            0.440095                                    -0.455761   \n",
       "6           -0.432252                                    -0.600102   \n",
       "7            1.110358                                     0.879747   \n",
       "8           -1.057940                                    -0.673681   \n",
       "9           -0.503871                                    -0.612779   \n",
       "10           0.382295                                     1.164948   \n",
       "11           1.333289                                     1.349842   \n",
       "12           1.178634                                     1.233813   \n",
       "13          -1.743063                                    -0.642240   \n",
       "14          -0.770005                                    -0.621980   \n",
       "15          -0.798385                                    -0.581904   \n",
       "16           1.683831                                    -0.270549   \n",
       "17           0.803140                                     2.718402   \n",
       "18           0.586129                                    -0.618886   \n",
       "19          -1.356650                                    -0.341495   \n",
       "20          -0.330437                                    -0.659856   \n",
       "21           0.074564                                    -0.586786   \n",
       "22          -0.117992                                    -0.589434   \n",
       "23           0.643488                                    -0.391933   \n",
       "\n",
       "    original.glszm.SmallAreaLowGrayLevelEmphasis  \n",
       "0                                       1.879805  \n",
       "1                                      -0.293106  \n",
       "2                                      -1.297865  \n",
       "3                                      -1.115463  \n",
       "4                                       1.633581  \n",
       "5                                       0.135653  \n",
       "6                                       1.031807  \n",
       "7                                      -1.253613  \n",
       "8                                       1.033127  \n",
       "9                                       0.464263  \n",
       "10                                     -1.043770  \n",
       "11                                     -1.230799  \n",
       "12                                     -1.199389  \n",
       "13                                      0.256141  \n",
       "14                                      0.617114  \n",
       "15                                     -0.035710  \n",
       "16                                     -1.039564  \n",
       "17                                     -1.269444  \n",
       "18                                      1.117389  \n",
       "19                                     -0.596111  \n",
       "20                                      1.311429  \n",
       "21                                      0.192975  \n",
       "22                                      0.517857  \n",
       "23                                      0.183693  "
      ]
     },
     "execution_count": 19,
     "metadata": {},
     "output_type": "execute_result"
    }
   ],
   "source": [
    "# RadiomicScore计算\n",
    "X_SS[X.columns[lasso_cv.coef_!=0]]"
   ]
  },
  {
   "cell_type": "code",
   "execution_count": 20,
   "id": "8df02b5f",
   "metadata": {},
   "outputs": [
    {
     "data": {
      "text/plain": [
       "0     0.411493\n",
       "1     0.187832\n",
       "2    -0.400953\n",
       "3    -0.328782\n",
       "4     0.293415\n",
       "5    -0.119105\n",
       "6     0.130756\n",
       "7    -0.259657\n",
       "8     0.324008\n",
       "9     0.229279\n",
       "10   -0.305246\n",
       "11   -0.400620\n",
       "12   -0.300757\n",
       "13    0.341482\n",
       "14    0.231782\n",
       "15    0.167954\n",
       "16   -0.261905\n",
       "17   -0.296037\n",
       "18    0.018877\n",
       "19    0.176576\n",
       "20    0.246570\n",
       "21   -0.120573\n",
       "22    0.049401\n",
       "23   -0.015791\n",
       "dtype: float64"
      ]
     },
     "execution_count": 20,
     "metadata": {},
     "output_type": "execute_result"
    }
   ],
   "source": [
    "case_Radscore = X_SS[X.columns[lasso_cv.coef_!=0]] * coef[coef !=0]\n",
    "Radscore = case_Radscore.apply(lambda x: x.sum(), axis=1)\n",
    "Radscore"
   ]
  },
  {
   "cell_type": "code",
   "execution_count": 21,
   "id": "a34a3d06",
   "metadata": {},
   "outputs": [
    {
     "data": {
      "image/png": "[encoded data removed]",
      "text/plain": [
       "<Figure size 432x288 with 1 Axes>"
      ]
     },
     "metadata": {
      "needs_background": "light"
     },
     "output_type": "display_data"
    }
   ],
   "source": [
    "# 特征值随Lambda取值变化图\n",
    "coefs = lasso_cv.path(X_SS, y, alphas=alphas, max_iter=100000)[1].T\n",
    "plt.figure()\n",
    "plt.semilogx(lasso_cv.alphas_, coefs, '-')\n",
    "plt.axvline(lasso_cv.alpha_, color='black', ls='--')\n",
    "plt.xlabel('Lambda')\n",
    "plt.ylabel('Coefficients')\n",
    "plt.show()"
   ]
  },
  {
   "cell_type": "code",
   "execution_count": 22,
   "id": "70180e6e",
   "metadata": {},
   "outputs": [
    {
     "data": {
      "text/html": [
       "<div>\n",
       "<style scoped>\n",
       "    .dataframe tbody tr th:only-of-type {\n",
       "        vertical-align: middle;\n",
       "    }\n",
       "\n",
       "    .dataframe tbody tr th {\n",
       "        vertical-align: top;\n",
       "    }\n",
       "\n",
       "    .dataframe thead th {\n",
       "        text-align: right;\n",
       "    }\n",
       "</style>\n",
       "<table border=\"1\" class=\"dataframe\">\n",
       "  <thead>\n",
       "    <tr style=\"text-align: right;\">\n",
       "      <th></th>\n",
       "      <th>ORR</th>\n",
       "      <th>Over7cm</th>\n",
       "      <th>Infiltration</th>\n",
       "      <th>Arterial_enhanced</th>\n",
       "      <th>Delay_enhanced</th>\n",
       "      <th>Uniformly_enhanced</th>\n",
       "      <th>Previous_treatment</th>\n",
       "      <th>AFP</th>\n",
       "      <th>CP_score</th>\n",
       "      <th>VP_grade</th>\n",
       "      <th>Radscore</th>\n",
       "    </tr>\n",
       "  </thead>\n",
       "  <tbody>\n",
       "    <tr>\n",
       "      <th>0</th>\n",
       "      <td>1</td>\n",
       "      <td>1</td>\n",
       "      <td>1</td>\n",
       "      <td>0</td>\n",
       "      <td>0</td>\n",
       "      <td>0</td>\n",
       "      <td>0</td>\n",
       "      <td>4516.00</td>\n",
       "      <td>6</td>\n",
       "      <td>3</td>\n",
       "      <td>0.411493</td>\n",
       "    </tr>\n",
       "    <tr>\n",
       "      <th>1</th>\n",
       "      <td>1</td>\n",
       "      <td>1</td>\n",
       "      <td>0</td>\n",
       "      <td>1</td>\n",
       "      <td>1</td>\n",
       "      <td>0</td>\n",
       "      <td>1</td>\n",
       "      <td>41715.29</td>\n",
       "      <td>6</td>\n",
       "      <td>2</td>\n",
       "      <td>0.187832</td>\n",
       "    </tr>\n",
       "    <tr>\n",
       "      <th>2</th>\n",
       "      <td>0</td>\n",
       "      <td>0</td>\n",
       "      <td>0</td>\n",
       "      <td>0</td>\n",
       "      <td>0</td>\n",
       "      <td>0</td>\n",
       "      <td>1</td>\n",
       "      <td>14.25</td>\n",
       "      <td>6</td>\n",
       "      <td>0</td>\n",
       "      <td>-0.400953</td>\n",
       "    </tr>\n",
       "    <tr>\n",
       "      <th>3</th>\n",
       "      <td>0</td>\n",
       "      <td>1</td>\n",
       "      <td>0</td>\n",
       "      <td>1</td>\n",
       "      <td>0</td>\n",
       "      <td>1</td>\n",
       "      <td>0</td>\n",
       "      <td>2.45</td>\n",
       "      <td>5</td>\n",
       "      <td>0</td>\n",
       "      <td>-0.328782</td>\n",
       "    </tr>\n",
       "    <tr>\n",
       "      <th>4</th>\n",
       "      <td>1</td>\n",
       "      <td>1</td>\n",
       "      <td>0</td>\n",
       "      <td>0</td>\n",
       "      <td>1</td>\n",
       "      <td>0</td>\n",
       "      <td>0</td>\n",
       "      <td>393.30</td>\n",
       "      <td>5</td>\n",
       "      <td>3</td>\n",
       "      <td>0.293415</td>\n",
       "    </tr>\n",
       "  </tbody>\n",
       "</table>\n",
       "</div>"
      ],
      "text/plain": [
       "   ORR  Over7cm  Infiltration  Arterial_enhanced  Delay_enhanced  \\\n",
       "0    1        1             1                  0               0   \n",
       "1    1        1             0                  1               1   \n",
       "2    0        0             0                  0               0   \n",
       "3    0        1             0                  1               0   \n",
       "4    1        1             0                  0               1   \n",
       "\n",
       "   Uniformly_enhanced  Previous_treatment       AFP  CP_score  VP_grade  \\\n",
       "0                   0                   0   4516.00         6         3   \n",
       "1                   0                   1  41715.29         6         2   \n",
       "2                   0                   1     14.25         6         0   \n",
       "3                   1                   0      2.45         5         0   \n",
       "4                   0                   0    393.30         5         3   \n",
       "\n",
       "   Radscore  \n",
       "0  0.411493  \n",
       "1  0.187832  \n",
       "2 -0.400953  \n",
       "3 -0.328782  \n",
       "4  0.293415  "
      ]
     },
     "execution_count": 22,
     "metadata": {},
     "output_type": "execute_result"
    }
   ],
   "source": [
    "# 导入数据\n",
    "Clin_Radio_demographic = pd.read_csv('https://raw.githubusercontent.com/ttkkyycr/ttkkyycr/main/data2_MultiVA_rearranged.csv')\n",
    "CR_dg = Clin_Radio_demographic.drop(['Specification','Name','TYPE','HAIC_sesion',\n",
    "                                     'Gender','Age', 'HBV',  'ALT', 'AST', 'ALB', 'TBIL',\n",
    "                                     'WBC','LY', 'NEUT', 'PLT', 'PT', 'INR', 'FIB','PVTT','Bilobal',\n",
    "                                     'metastatesis','BCLC_stage'], axis=1)\n",
    "CR_dg[\"Radscore\"] = Radscore\n",
    "CR_dg.head()"
   ]
  },
  {
   "cell_type": "code",
   "execution_count": 23,
   "id": "8554e92b",
   "metadata": {
    "scrolled": true
   },
   "outputs": [
    {
     "data": {
      "text/plain": [
       "Index(['ORR', 'Over7cm', 'Infiltration', 'Arterial_enhanced', 'Delay_enhanced',\n",
       "       'Uniformly_enhanced', 'Previous_treatment', 'AFP', 'CP_score',\n",
       "       'VP_grade', 'Radscore'],\n",
       "      dtype='object')"
      ]
     },
     "execution_count": 23,
     "metadata": {},
     "output_type": "execute_result"
    }
   ],
   "source": [
    "CR_dg.columns"
   ]
  },
  {
   "cell_type": "code",
   "execution_count": 24,
   "id": "3ce48fd5",
   "metadata": {},
   "outputs": [
    {
     "name": "stdout",
     "output_type": "stream",
     "text": [
      "[0, 400, 56182.23]\n"
     ]
    }
   ],
   "source": [
    "# 转化AFP为分类变量（>400）\n",
    "bins = [0,400,CR_dg['AFP'].max()]\n",
    "print (bins)\n",
    "AFP_cut = pd.cut(CR_dg['AFP'],bins)\n",
    "\n",
    "CR_dg['AFP'] = AFP_cut.values.codes\n",
    "CR_dg['AFP'] = CR_dg['AFP'].astype('category')"
   ]
  },
  {
   "cell_type": "code",
   "execution_count": 25,
   "id": "e798940b",
   "metadata": {},
   "outputs": [],
   "source": [
    "# 计算NLR\n",
    "NL_ratio = Clin_Radio_demographic['NEUT'] / Clin_Radio_demographic['LY']\n",
    "CR_dg['NLR'] = NL_ratio"
   ]
  },
  {
   "cell_type": "code",
   "execution_count": 26,
   "id": "edbca73d",
   "metadata": {
    "scrolled": true
   },
   "outputs": [
    {
     "name": "stdout",
     "output_type": "stream",
     "text": [
      "ORR                   category\n",
      "Over7cm               category\n",
      "Infiltration          category\n",
      "Arterial_enhanced     category\n",
      "Delay_enhanced        category\n",
      "Uniformly_enhanced    category\n",
      "Previous_treatment    category\n",
      "AFP                   category\n",
      "CP_score                 int64\n",
      "VP_grade              category\n",
      "Radscore               float64\n",
      "NLR                    float64\n",
      "dtype: object\n"
     ]
    },
    {
     "data": {
      "text/html": [
       "<div>\n",
       "<style scoped>\n",
       "    .dataframe tbody tr th:only-of-type {\n",
       "        vertical-align: middle;\n",
       "    }\n",
       "\n",
       "    .dataframe tbody tr th {\n",
       "        vertical-align: top;\n",
       "    }\n",
       "\n",
       "    .dataframe thead th {\n",
       "        text-align: right;\n",
       "    }\n",
       "</style>\n",
       "<table border=\"1\" class=\"dataframe\">\n",
       "  <thead>\n",
       "    <tr style=\"text-align: right;\">\n",
       "      <th></th>\n",
       "      <th>ORR</th>\n",
       "      <th>Over7cm</th>\n",
       "      <th>Infiltration</th>\n",
       "      <th>Arterial_enhanced</th>\n",
       "      <th>Delay_enhanced</th>\n",
       "      <th>Uniformly_enhanced</th>\n",
       "      <th>Previous_treatment</th>\n",
       "      <th>AFP</th>\n",
       "      <th>CP_score</th>\n",
       "      <th>VP_grade</th>\n",
       "      <th>Radscore</th>\n",
       "      <th>NLR</th>\n",
       "    </tr>\n",
       "  </thead>\n",
       "  <tbody>\n",
       "    <tr>\n",
       "      <th>0</th>\n",
       "      <td>1</td>\n",
       "      <td>1</td>\n",
       "      <td>1</td>\n",
       "      <td>0</td>\n",
       "      <td>0</td>\n",
       "      <td>0</td>\n",
       "      <td>0</td>\n",
       "      <td>1</td>\n",
       "      <td>6</td>\n",
       "      <td>3</td>\n",
       "      <td>0.411493</td>\n",
       "      <td>3.726496</td>\n",
       "    </tr>\n",
       "    <tr>\n",
       "      <th>1</th>\n",
       "      <td>1</td>\n",
       "      <td>1</td>\n",
       "      <td>0</td>\n",
       "      <td>1</td>\n",
       "      <td>1</td>\n",
       "      <td>0</td>\n",
       "      <td>1</td>\n",
       "      <td>1</td>\n",
       "      <td>6</td>\n",
       "      <td>2</td>\n",
       "      <td>0.187832</td>\n",
       "      <td>4.892473</td>\n",
       "    </tr>\n",
       "    <tr>\n",
       "      <th>2</th>\n",
       "      <td>0</td>\n",
       "      <td>0</td>\n",
       "      <td>0</td>\n",
       "      <td>0</td>\n",
       "      <td>0</td>\n",
       "      <td>0</td>\n",
       "      <td>1</td>\n",
       "      <td>0</td>\n",
       "      <td>6</td>\n",
       "      <td>0</td>\n",
       "      <td>-0.400953</td>\n",
       "      <td>1.865672</td>\n",
       "    </tr>\n",
       "    <tr>\n",
       "      <th>3</th>\n",
       "      <td>0</td>\n",
       "      <td>1</td>\n",
       "      <td>0</td>\n",
       "      <td>1</td>\n",
       "      <td>0</td>\n",
       "      <td>1</td>\n",
       "      <td>0</td>\n",
       "      <td>0</td>\n",
       "      <td>5</td>\n",
       "      <td>0</td>\n",
       "      <td>-0.328782</td>\n",
       "      <td>2.631868</td>\n",
       "    </tr>\n",
       "    <tr>\n",
       "      <th>4</th>\n",
       "      <td>1</td>\n",
       "      <td>1</td>\n",
       "      <td>0</td>\n",
       "      <td>0</td>\n",
       "      <td>1</td>\n",
       "      <td>0</td>\n",
       "      <td>0</td>\n",
       "      <td>0</td>\n",
       "      <td>5</td>\n",
       "      <td>3</td>\n",
       "      <td>0.293415</td>\n",
       "      <td>2.384615</td>\n",
       "    </tr>\n",
       "  </tbody>\n",
       "</table>\n",
       "</div>"
      ],
      "text/plain": [
       "  ORR Over7cm Infiltration Arterial_enhanced Delay_enhanced  \\\n",
       "0   1       1            1                 0              0   \n",
       "1   1       1            0                 1              1   \n",
       "2   0       0            0                 0              0   \n",
       "3   0       1            0                 1              0   \n",
       "4   1       1            0                 0              1   \n",
       "\n",
       "  Uniformly_enhanced Previous_treatment AFP  CP_score VP_grade  Radscore  \\\n",
       "0                  0                  0   1         6        3  0.411493   \n",
       "1                  0                  1   1         6        2  0.187832   \n",
       "2                  0                  1   0         6        0 -0.400953   \n",
       "3                  1                  0   0         5        0 -0.328782   \n",
       "4                  0                  0   0         5        3  0.293415   \n",
       "\n",
       "        NLR  \n",
       "0  3.726496  \n",
       "1  4.892473  \n",
       "2  1.865672  \n",
       "3  2.631868  \n",
       "4  2.384615  "
      ]
     },
     "execution_count": 26,
     "metadata": {},
     "output_type": "execute_result"
    }
   ],
   "source": [
    "# 转化其他分类变量\n",
    "from pandas.api.types import CategoricalDtype\n",
    "\n",
    "# to_convert = ['ORR', 'Bilobal', 'Over7cm', 'Infiltration',\n",
    "#               'Arterial_enhanced', 'Delay_enhanced', 'Uniformly_enhanced',\n",
    "#               'Previous_treatment', 'VP_grade',\n",
    "#               'metastatesis']\n",
    "to_convert = ['ORR','Over7cm', 'Infiltration', 'Arterial_enhanced', 'Delay_enhanced',\n",
    "              'Uniformly_enhanced','Previous_treatment', 'VP_grade',\n",
    "              ]\n",
    "CR_dg[to_convert] = CR_dg[to_convert].astype('category')\n",
    "# CR_dg.BCLC_stage.values.categories = [1,2,3]\n",
    "# print (CR_dg.BCLC_stage.values.categories)\n",
    "\n",
    "# 导出数据\n",
    "compression_opts = dict(method='zip',\n",
    "                        archive_name='out.csv')  \n",
    "CR_dg.to_csv('out.zip', index=False,compression=compression_opts)\n",
    "\n",
    "print (CR_dg.dtypes)\n",
    "CR_dg.head()\n"
   ]
  },
  {
   "cell_type": "code",
   "execution_count": 27,
   "id": "5333a2ec",
   "metadata": {
    "scrolled": true
   },
   "outputs": [
    {
     "data": {
      "text/html": [
       "<table class=\"simpletable\">\n",
       "<caption>OLS Regression Results</caption>\n",
       "<tr>\n",
       "  <th>Dep. Variable:</th>           <td>ORR</td>       <th>  R-squared:         </th> <td>   0.808</td>\n",
       "</tr>\n",
       "<tr>\n",
       "  <th>Model:</th>                   <td>OLS</td>       <th>  Adj. R-squared:    </th> <td>   0.632</td>\n",
       "</tr>\n",
       "<tr>\n",
       "  <th>Method:</th>             <td>Least Squares</td>  <th>  F-statistic:       </th> <td>   4.593</td>\n",
       "</tr>\n",
       "<tr>\n",
       "  <th>Date:</th>             <td>Wed, 01 Dec 2021</td> <th>  Prob (F-statistic):</th>  <td>0.00707</td>\n",
       "</tr>\n",
       "<tr>\n",
       "  <th>Time:</th>                 <td>15:26:05</td>     <th>  Log-Likelihood:    </th> <td>  3.1633</td>\n",
       "</tr>\n",
       "<tr>\n",
       "  <th>No. Observations:</th>      <td>    24</td>      <th>  AIC:               </th> <td>   17.67</td>\n",
       "</tr>\n",
       "<tr>\n",
       "  <th>Df Residuals:</th>          <td>    12</td>      <th>  BIC:               </th> <td>   31.81</td>\n",
       "</tr>\n",
       "<tr>\n",
       "  <th>Df Model:</th>              <td>    11</td>      <th>                     </th>     <td> </td>   \n",
       "</tr>\n",
       "<tr>\n",
       "  <th>Covariance Type:</th>      <td>nonrobust</td>    <th>                     </th>     <td> </td>   \n",
       "</tr>\n",
       "</table>\n",
       "<table class=\"simpletable\">\n",
       "<tr>\n",
       "           <td></td>             <th>coef</th>     <th>std err</th>      <th>t</th>      <th>P>|t|</th>  <th>[0.025</th>    <th>0.975]</th>  \n",
       "</tr>\n",
       "<tr>\n",
       "  <th>const</th>              <td>    0.4126</td> <td>    0.496</td> <td>    0.831</td> <td> 0.422</td> <td>   -0.669</td> <td>    1.494</td>\n",
       "</tr>\n",
       "<tr>\n",
       "  <th>Over7cm</th>            <td>   -0.3321</td> <td>    0.246</td> <td>   -1.348</td> <td> 0.203</td> <td>   -0.869</td> <td>    0.205</td>\n",
       "</tr>\n",
       "<tr>\n",
       "  <th>Infiltration</th>       <td>   -0.0455</td> <td>    0.148</td> <td>   -0.307</td> <td> 0.764</td> <td>   -0.368</td> <td>    0.277</td>\n",
       "</tr>\n",
       "<tr>\n",
       "  <th>Arterial_enhanced</th>  <td>    0.1360</td> <td>    0.232</td> <td>    0.587</td> <td> 0.568</td> <td>   -0.369</td> <td>    0.641</td>\n",
       "</tr>\n",
       "<tr>\n",
       "  <th>Delay_enhanced</th>     <td>    0.0324</td> <td>    0.149</td> <td>    0.217</td> <td> 0.832</td> <td>   -0.293</td> <td>    0.358</td>\n",
       "</tr>\n",
       "<tr>\n",
       "  <th>Uniformly_enhanced</th> <td>   -0.1130</td> <td>    0.176</td> <td>   -0.641</td> <td> 0.534</td> <td>   -0.497</td> <td>    0.271</td>\n",
       "</tr>\n",
       "<tr>\n",
       "  <th>Previous_treatment</th> <td>   -0.1679</td> <td>    0.145</td> <td>   -1.157</td> <td> 0.270</td> <td>   -0.484</td> <td>    0.148</td>\n",
       "</tr>\n",
       "<tr>\n",
       "  <th>AFP</th>                <td>    0.2445</td> <td>    0.178</td> <td>    1.375</td> <td> 0.194</td> <td>   -0.143</td> <td>    0.632</td>\n",
       "</tr>\n",
       "<tr>\n",
       "  <th>CP_score</th>           <td>    0.1108</td> <td>    0.076</td> <td>    1.453</td> <td> 0.172</td> <td>   -0.055</td> <td>    0.277</td>\n",
       "</tr>\n",
       "<tr>\n",
       "  <th>VP_grade</th>           <td>   -0.0474</td> <td>    0.055</td> <td>   -0.869</td> <td> 0.402</td> <td>   -0.166</td> <td>    0.071</td>\n",
       "</tr>\n",
       "<tr>\n",
       "  <th>Radscore</th>           <td>    1.5802</td> <td>    0.264</td> <td>    5.992</td> <td> 0.000</td> <td>    1.006</td> <td>    2.155</td>\n",
       "</tr>\n",
       "<tr>\n",
       "  <th>NLR</th>                <td>   -0.0575</td> <td>    0.052</td> <td>   -1.098</td> <td> 0.294</td> <td>   -0.172</td> <td>    0.057</td>\n",
       "</tr>\n",
       "</table>\n",
       "<table class=\"simpletable\">\n",
       "<tr>\n",
       "  <th>Omnibus:</th>       <td> 3.464</td> <th>  Durbin-Watson:     </th> <td>   2.319</td>\n",
       "</tr>\n",
       "<tr>\n",
       "  <th>Prob(Omnibus):</th> <td> 0.177</td> <th>  Jarque-Bera (JB):  </th> <td>   2.303</td>\n",
       "</tr>\n",
       "<tr>\n",
       "  <th>Skew:</th>          <td> 0.756</td> <th>  Prob(JB):          </th> <td>   0.316</td>\n",
       "</tr>\n",
       "<tr>\n",
       "  <th>Kurtosis:</th>      <td> 3.133</td> <th>  Cond. No.          </th> <td>    60.4</td>\n",
       "</tr>\n",
       "</table><br/><br/>Notes:<br/>[1] Standard Errors assume that the covariance matrix of the errors is correctly specified."
      ],
      "text/plain": [
       "<class 'statsmodels.iolib.summary.Summary'>\n",
       "\"\"\"\n",
       "                            OLS Regression Results                            \n",
       "==============================================================================\n",
       "Dep. Variable:                    ORR   R-squared:                       0.808\n",
       "Model:                            OLS   Adj. R-squared:                  0.632\n",
       "Method:                 Least Squares   F-statistic:                     4.593\n",
       "Date:                Wed, 01 Dec 2021   Prob (F-statistic):            0.00707\n",
       "Time:                        15:26:05   Log-Likelihood:                 3.1633\n",
       "No. Observations:                  24   AIC:                             17.67\n",
       "Df Residuals:                      12   BIC:                             31.81\n",
       "Df Model:                          11                                         \n",
       "Covariance Type:            nonrobust                                         \n",
       "======================================================================================\n",
       "                         coef    std err          t      P>|t|      [0.025      0.975]\n",
       "--------------------------------------------------------------------------------------\n",
       "const                  0.4126      0.496      0.831      0.422      -0.669       1.494\n",
       "Over7cm               -0.3321      0.246     -1.348      0.203      -0.869       0.205\n",
       "Infiltration          -0.0455      0.148     -0.307      0.764      -0.368       0.277\n",
       "Arterial_enhanced      0.1360      0.232      0.587      0.568      -0.369       0.641\n",
       "Delay_enhanced         0.0324      0.149      0.217      0.832      -0.293       0.358\n",
       "Uniformly_enhanced    -0.1130      0.176     -0.641      0.534      -0.497       0.271\n",
       "Previous_treatment    -0.1679      0.145     -1.157      0.270      -0.484       0.148\n",
       "AFP                    0.2445      0.178      1.375      0.194      -0.143       0.632\n",
       "CP_score               0.1108      0.076      1.453      0.172      -0.055       0.277\n",
       "VP_grade              -0.0474      0.055     -0.869      0.402      -0.166       0.071\n",
       "Radscore               1.5802      0.264      5.992      0.000       1.006       2.155\n",
       "NLR                   -0.0575      0.052     -1.098      0.294      -0.172       0.057\n",
       "==============================================================================\n",
       "Omnibus:                        3.464   Durbin-Watson:                   2.319\n",
       "Prob(Omnibus):                  0.177   Jarque-Bera (JB):                2.303\n",
       "Skew:                           0.756   Prob(JB):                        0.316\n",
       "Kurtosis:                       3.133   Cond. No.                         60.4\n",
       "==============================================================================\n",
       "\n",
       "Notes:\n",
       "[1] Standard Errors assume that the covariance matrix of the errors is correctly specified.\n",
       "\"\"\""
      ]
     },
     "execution_count": 27,
     "metadata": {},
     "output_type": "execute_result"
    }
   ],
   "source": [
    "import statsmodels.api as sm\n",
    "\n",
    "\n",
    "X_multiVA = CR_dg.drop(['ORR'],axis=1)\n",
    "y_multiVA = CR_dg['ORR']\n",
    "\n",
    "model = sm.OLS(y_multiVA,sm.add_constant(X_multiVA))\n",
    "result = model.fit()\n",
    "result.summary()"
   ]
  },
  {
   "cell_type": "code",
   "execution_count": 28,
   "id": "391c6f68",
   "metadata": {
    "scrolled": true
   },
   "outputs": [
    {
     "name": "stdout",
     "output_type": "stream",
     "text": [
      "0\n",
      "1\n",
      "2\n",
      "3\n",
      "4\n",
      "5\n"
     ]
    }
   ],
   "source": [
    "x = range(6)\n",
    "for n in x:\n",
    "  print(n)"
   ]
  },
  {
   "cell_type": "code",
   "execution_count": 29,
   "id": "2e543809",
   "metadata": {
    "scrolled": true
   },
   "outputs": [
    {
     "data": {
      "text/plain": [
       "3"
      ]
     },
     "execution_count": 29,
     "metadata": {},
     "output_type": "execute_result"
    }
   ],
   "source": [
    "mylist = [\"apple\", \"banana\", \"cherry\"]\n",
    "x = len(mylist)\n",
    "x"
   ]
  },
  {
   "cell_type": "code",
   "execution_count": 30,
   "id": "af4120f5",
   "metadata": {},
   "outputs": [
    {
     "data": {
      "text/plain": [
       "['ORR',\n",
       " 'Over7cm',\n",
       " 'Infiltration',\n",
       " 'Arterial_enhanced',\n",
       " 'Delay_enhanced',\n",
       " 'Uniformly_enhanced',\n",
       " 'Previous_treatment',\n",
       " 'AFP',\n",
       " 'CP_score',\n",
       " 'VP_grade',\n",
       " 'Radscore',\n",
       " 'NLR']"
      ]
     },
     "execution_count": 30,
     "metadata": {},
     "output_type": "execute_result"
    }
   ],
   "source": [
    "list(CR_dg.columns)"
   ]
  },
  {
   "cell_type": "code",
   "execution_count": 31,
   "id": "d4ea19fa",
   "metadata": {
    "scrolled": false
   },
   "outputs": [
    {
     "data": {
      "text/html": [
       "<table class=\"simpletable\">\n",
       "<caption>OLS Regression Results</caption>\n",
       "<tr>\n",
       "  <th>Dep. Variable:</th>           <td>ORR</td>       <th>  R-squared:         </th> <td>   0.703</td>\n",
       "</tr>\n",
       "<tr>\n",
       "  <th>Model:</th>                   <td>OLS</td>       <th>  Adj. R-squared:    </th> <td>   0.689</td>\n",
       "</tr>\n",
       "<tr>\n",
       "  <th>Method:</th>             <td>Least Squares</td>  <th>  F-statistic:       </th> <td>   52.02</td>\n",
       "</tr>\n",
       "<tr>\n",
       "  <th>Date:</th>             <td>Wed, 01 Dec 2021</td> <th>  Prob (F-statistic):</th> <td>3.15e-07</td>\n",
       "</tr>\n",
       "<tr>\n",
       "  <th>Time:</th>                 <td>15:26:05</td>     <th>  Log-Likelihood:    </th> <td> -2.0849</td>\n",
       "</tr>\n",
       "<tr>\n",
       "  <th>No. Observations:</th>      <td>    24</td>      <th>  AIC:               </th> <td>   8.170</td>\n",
       "</tr>\n",
       "<tr>\n",
       "  <th>Df Residuals:</th>          <td>    22</td>      <th>  BIC:               </th> <td>   10.53</td>\n",
       "</tr>\n",
       "<tr>\n",
       "  <th>Df Model:</th>              <td>     1</td>      <th>                     </th>     <td> </td>   \n",
       "</tr>\n",
       "<tr>\n",
       "  <th>Covariance Type:</th>      <td>nonrobust</td>    <th>                     </th>     <td> </td>   \n",
       "</tr>\n",
       "</table>\n",
       "<table class=\"simpletable\">\n",
       "<tr>\n",
       "      <td></td>        <th>coef</th>     <th>std err</th>      <th>t</th>      <th>P>|t|</th>  <th>[0.025</th>    <th>0.975]</th>  \n",
       "</tr>\n",
       "<tr>\n",
       "  <th>const</th>    <td>    0.6250</td> <td>    0.056</td> <td>   11.107</td> <td> 0.000</td> <td>    0.508</td> <td>    0.742</td>\n",
       "</tr>\n",
       "<tr>\n",
       "  <th>Radscore</th> <td>    1.5601</td> <td>    0.216</td> <td>    7.213</td> <td> 0.000</td> <td>    1.111</td> <td>    2.009</td>\n",
       "</tr>\n",
       "</table>\n",
       "<table class=\"simpletable\">\n",
       "<tr>\n",
       "  <th>Omnibus:</th>       <td> 7.150</td> <th>  Durbin-Watson:     </th> <td>   1.885</td>\n",
       "</tr>\n",
       "<tr>\n",
       "  <th>Prob(Omnibus):</th> <td> 0.028</td> <th>  Jarque-Bera (JB):  </th> <td>   4.983</td>\n",
       "</tr>\n",
       "<tr>\n",
       "  <th>Skew:</th>          <td> 0.901</td> <th>  Prob(JB):          </th> <td>  0.0828</td>\n",
       "</tr>\n",
       "<tr>\n",
       "  <th>Kurtosis:</th>      <td> 4.319</td> <th>  Cond. No.          </th> <td>    3.84</td>\n",
       "</tr>\n",
       "</table><br/><br/>Notes:<br/>[1] Standard Errors assume that the covariance matrix of the errors is correctly specified."
      ],
      "text/plain": [
       "<class 'statsmodels.iolib.summary.Summary'>\n",
       "\"\"\"\n",
       "                            OLS Regression Results                            \n",
       "==============================================================================\n",
       "Dep. Variable:                    ORR   R-squared:                       0.703\n",
       "Model:                            OLS   Adj. R-squared:                  0.689\n",
       "Method:                 Least Squares   F-statistic:                     52.02\n",
       "Date:                Wed, 01 Dec 2021   Prob (F-statistic):           3.15e-07\n",
       "Time:                        15:26:05   Log-Likelihood:                -2.0849\n",
       "No. Observations:                  24   AIC:                             8.170\n",
       "Df Residuals:                      22   BIC:                             10.53\n",
       "Df Model:                           1                                         \n",
       "Covariance Type:            nonrobust                                         \n",
       "==============================================================================\n",
       "                 coef    std err          t      P>|t|      [0.025      0.975]\n",
       "------------------------------------------------------------------------------\n",
       "const          0.6250      0.056     11.107      0.000       0.508       0.742\n",
       "Radscore       1.5601      0.216      7.213      0.000       1.111       2.009\n",
       "==============================================================================\n",
       "Omnibus:                        7.150   Durbin-Watson:                   1.885\n",
       "Prob(Omnibus):                  0.028   Jarque-Bera (JB):                4.983\n",
       "Skew:                           0.901   Prob(JB):                       0.0828\n",
       "Kurtosis:                       4.319   Cond. No.                         3.84\n",
       "==============================================================================\n",
       "\n",
       "Notes:\n",
       "[1] Standard Errors assume that the covariance matrix of the errors is correctly specified.\n",
       "\"\"\""
      ]
     },
     "execution_count": 31,
     "metadata": {},
     "output_type": "execute_result"
    }
   ],
   "source": [
    "# 剔除非显著的因素\n",
    "def looper(limit):\n",
    "    cols = list(X_multiVA.columns)\n",
    "    for i in range(len(cols)):\n",
    "        data1 = CR_dg[cols]\n",
    "        x = sm.add_constant(data1)\n",
    "        y = y_multiVA\n",
    "        model = sm.OLS(y,x)\n",
    "        result = model.fit()\n",
    "        result.summary()\n",
    "        pvalues = result.pvalues\n",
    "        pvalues.drop('const',inplace=True)\n",
    "        pmax = max(pvalues)\n",
    "        if pmax>limit:\n",
    "            idn = pvalues.idxmax()\n",
    "            cols.remove(idn)\n",
    "        else: \n",
    "            return result\n",
    "\n",
    "result = looper(0.05)\n",
    "result.summary()\n",
    "        "
   ]
  },
  {
   "cell_type": "code",
   "execution_count": 32,
   "id": "ea9c4369",
   "metadata": {
    "scrolled": true
   },
   "outputs": [
    {
     "ename": "PerfectSeparationError",
     "evalue": "Perfect separation detected, results not available",
     "output_type": "error",
     "traceback": [
      "\u001b[1;31m---------------------------------------------------------------------------\u001b[0m",
      "\u001b[1;31mPerfectSeparationError\u001b[0m                    Traceback (most recent call last)",
      "\u001b[1;32m~\\AppData\\Local\\Temp/ipykernel_8360/711044961.py\u001b[0m in \u001b[0;36m<module>\u001b[1;34m\u001b[0m\n\u001b[1;32m----> 1\u001b[1;33m \u001b[0mlog_reg\u001b[0m \u001b[1;33m=\u001b[0m \u001b[0msm\u001b[0m\u001b[1;33m.\u001b[0m\u001b[0mLogit\u001b[0m\u001b[1;33m(\u001b[0m\u001b[0my_train\u001b[0m\u001b[1;33m,\u001b[0m \u001b[0mX_train\u001b[0m\u001b[1;33m)\u001b[0m\u001b[1;33m.\u001b[0m\u001b[0mfit\u001b[0m\u001b[1;33m(\u001b[0m\u001b[1;33m)\u001b[0m\u001b[1;33m\u001b[0m\u001b[0m\n\u001b[0m",
      "\u001b[1;32mc:\\users\\ttkky\\appdata\\local\\programs\\python\\python37\\lib\\site-packages\\statsmodels\\discrete\\discrete_model.py\u001b[0m in \u001b[0;36mfit\u001b[1;34m(self, start_params, method, maxiter, full_output, disp, callback, **kwargs)\u001b[0m\n\u001b[0;32m   1987\u001b[0m                               \u001b[0mdisp\u001b[0m\u001b[1;33m=\u001b[0m\u001b[0mdisp\u001b[0m\u001b[1;33m,\u001b[0m\u001b[1;33m\u001b[0m\u001b[0m\n\u001b[0;32m   1988\u001b[0m                               \u001b[0mcallback\u001b[0m\u001b[1;33m=\u001b[0m\u001b[0mcallback\u001b[0m\u001b[1;33m,\u001b[0m\u001b[1;33m\u001b[0m\u001b[0m\n\u001b[1;32m-> 1989\u001b[1;33m                               **kwargs)\n\u001b[0m\u001b[0;32m   1990\u001b[0m \u001b[1;33m\u001b[0m\u001b[0m\n\u001b[0;32m   1991\u001b[0m         \u001b[0mdiscretefit\u001b[0m \u001b[1;33m=\u001b[0m \u001b[0mLogitResults\u001b[0m\u001b[1;33m(\u001b[0m\u001b[0mself\u001b[0m\u001b[1;33m,\u001b[0m \u001b[0mbnryfit\u001b[0m\u001b[1;33m)\u001b[0m\u001b[1;33m\u001b[0m\u001b[0m\n",
      "\u001b[1;32mc:\\users\\ttkky\\appdata\\local\\programs\\python\\python37\\lib\\site-packages\\statsmodels\\discrete\\discrete_model.py\u001b[0m in \u001b[0;36mfit\u001b[1;34m(self, start_params, method, maxiter, full_output, disp, callback, **kwargs)\u001b[0m\n\u001b[0;32m    234\u001b[0m                              \u001b[0mdisp\u001b[0m\u001b[1;33m=\u001b[0m\u001b[0mdisp\u001b[0m\u001b[1;33m,\u001b[0m\u001b[1;33m\u001b[0m\u001b[0m\n\u001b[0;32m    235\u001b[0m                              \u001b[0mcallback\u001b[0m\u001b[1;33m=\u001b[0m\u001b[0mcallback\u001b[0m\u001b[1;33m,\u001b[0m\u001b[1;33m\u001b[0m\u001b[0m\n\u001b[1;32m--> 236\u001b[1;33m                              **kwargs)\n\u001b[0m\u001b[0;32m    237\u001b[0m \u001b[1;33m\u001b[0m\u001b[0m\n\u001b[0;32m    238\u001b[0m         \u001b[1;32mreturn\u001b[0m \u001b[0mmlefit\u001b[0m  \u001b[1;31m# It is up to subclasses to wrap results\u001b[0m\u001b[1;33m\u001b[0m\u001b[0m\n",
      "\u001b[1;32mc:\\users\\ttkky\\appdata\\local\\programs\\python\\python37\\lib\\site-packages\\statsmodels\\base\\model.py\u001b[0m in \u001b[0;36mfit\u001b[1;34m(self, start_params, method, maxiter, full_output, disp, fargs, callback, retall, skip_hessian, **kwargs)\u001b[0m\n\u001b[0;32m    569\u001b[0m                                                        \u001b[0mcallback\u001b[0m\u001b[1;33m=\u001b[0m\u001b[0mcallback\u001b[0m\u001b[1;33m,\u001b[0m\u001b[1;33m\u001b[0m\u001b[0m\n\u001b[0;32m    570\u001b[0m                                                        \u001b[0mretall\u001b[0m\u001b[1;33m=\u001b[0m\u001b[0mretall\u001b[0m\u001b[1;33m,\u001b[0m\u001b[1;33m\u001b[0m\u001b[0m\n\u001b[1;32m--> 571\u001b[1;33m                                                        full_output=full_output)\n\u001b[0m\u001b[0;32m    572\u001b[0m         \u001b[1;31m# Restore cov_type, cov_kwds and use_t\u001b[0m\u001b[1;33m\u001b[0m\u001b[1;33m\u001b[0m\u001b[0m\n\u001b[0;32m    573\u001b[0m         \u001b[0moptim_settings\u001b[0m\u001b[1;33m.\u001b[0m\u001b[0mupdate\u001b[0m\u001b[1;33m(\u001b[0m\u001b[0mkwds\u001b[0m\u001b[1;33m)\u001b[0m\u001b[1;33m\u001b[0m\u001b[0m\n",
      "\u001b[1;32mc:\\users\\ttkky\\appdata\\local\\programs\\python\\python37\\lib\\site-packages\\statsmodels\\base\\optimizer.py\u001b[0m in \u001b[0;36m_fit\u001b[1;34m(self, objective, gradient, start_params, fargs, kwargs, hessian, method, maxiter, full_output, disp, callback, retall)\u001b[0m\n\u001b[0;32m    242\u001b[0m                              \u001b[0mdisp\u001b[0m\u001b[1;33m=\u001b[0m\u001b[0mdisp\u001b[0m\u001b[1;33m,\u001b[0m \u001b[0mmaxiter\u001b[0m\u001b[1;33m=\u001b[0m\u001b[0mmaxiter\u001b[0m\u001b[1;33m,\u001b[0m \u001b[0mcallback\u001b[0m\u001b[1;33m=\u001b[0m\u001b[0mcallback\u001b[0m\u001b[1;33m,\u001b[0m\u001b[1;33m\u001b[0m\u001b[0m\n\u001b[0;32m    243\u001b[0m                              \u001b[0mretall\u001b[0m\u001b[1;33m=\u001b[0m\u001b[0mretall\u001b[0m\u001b[1;33m,\u001b[0m \u001b[0mfull_output\u001b[0m\u001b[1;33m=\u001b[0m\u001b[0mfull_output\u001b[0m\u001b[1;33m,\u001b[0m\u001b[1;33m\u001b[0m\u001b[0m\n\u001b[1;32m--> 244\u001b[1;33m                              hess=hessian)\n\u001b[0m\u001b[0;32m    245\u001b[0m \u001b[1;33m\u001b[0m\u001b[0m\n\u001b[0;32m    246\u001b[0m         optim_settings = {'optimizer': method, 'start_params': start_params,\n",
      "\u001b[1;32mc:\\users\\ttkky\\appdata\\local\\programs\\python\\python37\\lib\\site-packages\\statsmodels\\base\\optimizer.py\u001b[0m in \u001b[0;36m_fit_newton\u001b[1;34m(f, score, start_params, fargs, kwargs, disp, maxiter, callback, retall, full_output, hess, ridge_factor)\u001b[0m\n\u001b[0;32m    441\u001b[0m             \u001b[0mhistory\u001b[0m\u001b[1;33m.\u001b[0m\u001b[0mappend\u001b[0m\u001b[1;33m(\u001b[0m\u001b[0mnewparams\u001b[0m\u001b[1;33m)\u001b[0m\u001b[1;33m\u001b[0m\u001b[0m\n\u001b[0;32m    442\u001b[0m         \u001b[1;32mif\u001b[0m \u001b[0mcallback\u001b[0m \u001b[1;32mis\u001b[0m \u001b[1;32mnot\u001b[0m \u001b[1;32mNone\u001b[0m\u001b[1;33m:\u001b[0m\u001b[1;33m\u001b[0m\u001b[0m\n\u001b[1;32m--> 443\u001b[1;33m             \u001b[0mcallback\u001b[0m\u001b[1;33m(\u001b[0m\u001b[0mnewparams\u001b[0m\u001b[1;33m)\u001b[0m\u001b[1;33m\u001b[0m\u001b[0m\n\u001b[0m\u001b[0;32m    444\u001b[0m         \u001b[0miterations\u001b[0m \u001b[1;33m+=\u001b[0m \u001b[1;36m1\u001b[0m\u001b[1;33m\u001b[0m\u001b[0m\n\u001b[0;32m    445\u001b[0m     \u001b[0mfval\u001b[0m \u001b[1;33m=\u001b[0m \u001b[0mf\u001b[0m\u001b[1;33m(\u001b[0m\u001b[0mnewparams\u001b[0m\u001b[1;33m,\u001b[0m \u001b[1;33m*\u001b[0m\u001b[0mfargs\u001b[0m\u001b[1;33m)\u001b[0m  \u001b[1;31m# this is the negative likelihood\u001b[0m\u001b[1;33m\u001b[0m\u001b[0m\n",
      "\u001b[1;32mc:\\users\\ttkky\\appdata\\local\\programs\\python\\python37\\lib\\site-packages\\statsmodels\\discrete\\discrete_model.py\u001b[0m in \u001b[0;36m_check_perfect_pred\u001b[1;34m(self, params, *args)\u001b[0m\n\u001b[0;32m    212\u001b[0m                 np.allclose(fittedvalues - endog, 0)):\n\u001b[0;32m    213\u001b[0m             \u001b[0mmsg\u001b[0m \u001b[1;33m=\u001b[0m \u001b[1;34m\"Perfect separation detected, results not available\"\u001b[0m\u001b[1;33m\u001b[0m\u001b[0m\n\u001b[1;32m--> 214\u001b[1;33m             \u001b[1;32mraise\u001b[0m \u001b[0mPerfectSeparationError\u001b[0m\u001b[1;33m(\u001b[0m\u001b[0mmsg\u001b[0m\u001b[1;33m)\u001b[0m\u001b[1;33m\u001b[0m\u001b[0m\n\u001b[0m\u001b[0;32m    215\u001b[0m \u001b[1;33m\u001b[0m\u001b[0m\n\u001b[0;32m    216\u001b[0m     \u001b[1;33m@\u001b[0m\u001b[0mAppender\u001b[0m\u001b[1;33m(\u001b[0m\u001b[0mbase\u001b[0m\u001b[1;33m.\u001b[0m\u001b[0mLikelihoodModel\u001b[0m\u001b[1;33m.\u001b[0m\u001b[0mfit\u001b[0m\u001b[1;33m.\u001b[0m\u001b[0m__doc__\u001b[0m\u001b[1;33m)\u001b[0m\u001b[1;33m\u001b[0m\u001b[0m\n",
      "\u001b[1;31mPerfectSeparationError\u001b[0m: Perfect separation detected, results not available"
     ]
    }
   ],
   "source": [
    "log_reg = sm.Logit(y_train, X_train).fit()"
   ]
  },
  {
   "cell_type": "code",
   "execution_count": 33,
   "id": "8e26b19c",
   "metadata": {
    "scrolled": true
   },
   "outputs": [
    {
     "data": {
      "image/png": "[encoded data removed]",
      "text/plain": [
       "<Figure size 1080x1080 with 9 Axes>"
      ]
     },
     "metadata": {
      "needs_background": "light"
     },
     "output_type": "display_data"
    }
   ],
   "source": [
    "grr = pd.plotting.scatter_matrix(X_multiVA, c=y_multiVA, \n",
    "                        figsize=(15,15),\n",
    "                        marker='o',\n",
    "                        hist_kwds={'bins':20},\n",
    "                        s=60, alpha=0.5)\n",
    "#                                  cmap=mglearn.cm3)"
   ]
  },
  {
   "cell_type": "code",
   "execution_count": 70,
   "id": "51363efc",
   "metadata": {},
   "outputs": [
    {
     "name": "stdout",
     "output_type": "stream",
     "text": [
      "Accuracy on training set: 1.000\n",
      "Accuracy on test set: 1.000\n"
     ]
    }
   ],
   "source": [
    "# 数据分类\n",
    "from sklearn.tree import DecisionTreeClassifier\n",
    "\n",
    "\n",
    "X_train, X_test, y_train, y_test = train_test_split(X_multiVA, y_multiVA, test_size=0.25, random_state=10)\n",
    "\n",
    "\n",
    "# 决策树构建\n",
    "tree = DecisionTreeClassifier(max_depth=4, random_state=0)\n",
    "tree.fit(X_multiVA, y_multiVA)\n",
    "\n",
    "print(\"Accuracy on training set: {:.3f}\".format(tree.score(X_train, y_train)))\n",
    "print(\"Accuracy on test set: {:.3f}\".format(tree.score(X_test, y_test)))"
   ]
  },
  {
   "cell_type": "code",
   "execution_count": 71,
   "id": "cbbe8531",
   "metadata": {},
   "outputs": [
    {
     "data": {
      "image/svg+xml": [
       "<?xml version=\"1.0\" encoding=\"UTF-8\" standalone=\"no\"?>\n",
       "<!DOCTYPE svg PUBLIC \"-//W3C//DTD SVG 1.1//EN\"\n",
       " \"http://www.w3.org/Graphics/SVG/1.1/DTD/svg11.dtd\">\n",
       "<!-- Generated by graphviz version 2.49.3 (20211023.0002)\n",
       " -->\n",
       "<!-- Title: Tree Pages: 1 -->\n",
       "<svg width=\"318pt\" height=\"269pt\"\n",
       " viewBox=\"0.00 0.00 318.00 269.00\" xmlns=\"http://www.w3.org/2000/svg\" xmlns:xlink=\"http://www.w3.org/1999/xlink\">\n",
       "<g id=\"graph0\" class=\"graph\" transform=\"scale(1 1) rotate(0) translate(4 265)\">\n",
       "<title>Tree</title>\n",
       "<polygon fill=\"white\" stroke=\"transparent\" points=\"-4,4 -4,-265 314,-265 314,4 -4,4\"/>\n",
       "<!-- 0 -->\n",
       "<g id=\"node1\" class=\"node\">\n",
       "<title>0</title>\n",
       "<polygon fill=\"#b0d8f5\" stroke=\"black\" points=\"242,-261 134,-261 134,-193 242,-193 242,-261\"/>\n",
       "<text text-anchor=\"middle\" x=\"188\" y=\"-245.8\" font-family=\"Helvetica,sans-Serif\" font-size=\"14.00\">X[9] &lt;= &#45;0.067</text>\n",
       "<text text-anchor=\"middle\" x=\"188\" y=\"-230.8\" font-family=\"Helvetica,sans-Serif\" font-size=\"14.00\">samples = 24</text>\n",
       "<text text-anchor=\"middle\" x=\"188\" y=\"-215.8\" font-family=\"Helvetica,sans-Serif\" font-size=\"14.00\">value = [9, 15]</text>\n",
       "<text text-anchor=\"middle\" x=\"188\" y=\"-200.8\" font-family=\"Helvetica,sans-Serif\" font-size=\"14.00\">class = benign</text>\n",
       "</g>\n",
       "<!-- 1 -->\n",
       "<g id=\"node2\" class=\"node\">\n",
       "<title>1</title>\n",
       "<polygon fill=\"#e88f4f\" stroke=\"black\" points=\"183.5,-157 58.5,-157 58.5,-89 183.5,-89 183.5,-157\"/>\n",
       "<text text-anchor=\"middle\" x=\"121\" y=\"-141.8\" font-family=\"Helvetica,sans-Serif\" font-size=\"14.00\">X[10] &lt;= 0.888</text>\n",
       "<text text-anchor=\"middle\" x=\"121\" y=\"-126.8\" font-family=\"Helvetica,sans-Serif\" font-size=\"14.00\">samples = 10</text>\n",
       "<text text-anchor=\"middle\" x=\"121\" y=\"-111.8\" font-family=\"Helvetica,sans-Serif\" font-size=\"14.00\">value = [9, 1]</text>\n",
       "<text text-anchor=\"middle\" x=\"121\" y=\"-96.8\" font-family=\"Helvetica,sans-Serif\" font-size=\"14.00\">class = malignant</text>\n",
       "</g>\n",
       "<!-- 0&#45;&gt;1 -->\n",
       "<g id=\"edge1\" class=\"edge\">\n",
       "<title>0&#45;&gt;1</title>\n",
       "<path fill=\"none\" stroke=\"black\" d=\"M166.25,-192.88C160.57,-184.24 154.38,-174.82 148.45,-165.79\"/>\n",
       "<polygon fill=\"black\" stroke=\"black\" points=\"151.29,-163.74 142.87,-157.3 145.44,-167.58 151.29,-163.74\"/>\n",
       "<text text-anchor=\"middle\" x=\"137.8\" y=\"-178.08\" font-family=\"Helvetica,sans-Serif\" font-size=\"14.00\">True</text>\n",
       "</g>\n",
       "<!-- 4 -->\n",
       "<g id=\"node5\" class=\"node\">\n",
       "<title>4</title>\n",
       "<polygon fill=\"#399de5\" stroke=\"black\" points=\"310,-149.5 202,-149.5 202,-96.5 310,-96.5 310,-149.5\"/>\n",
       "<text text-anchor=\"middle\" x=\"256\" y=\"-134.3\" font-family=\"Helvetica,sans-Serif\" font-size=\"14.00\">samples = 14</text>\n",
       "<text text-anchor=\"middle\" x=\"256\" y=\"-119.3\" font-family=\"Helvetica,sans-Serif\" font-size=\"14.00\">value = [0, 14]</text>\n",
       "<text text-anchor=\"middle\" x=\"256\" y=\"-104.3\" font-family=\"Helvetica,sans-Serif\" font-size=\"14.00\">class = benign</text>\n",
       "</g>\n",
       "<!-- 0&#45;&gt;4 -->\n",
       "<g id=\"edge4\" class=\"edge\">\n",
       "<title>0&#45;&gt;4</title>\n",
       "<path fill=\"none\" stroke=\"black\" d=\"M210.08,-192.88C217.56,-181.67 225.92,-169.13 233.43,-157.85\"/>\n",
       "<polygon fill=\"black\" stroke=\"black\" points=\"236.35,-159.78 238.99,-149.52 230.53,-155.9 236.35,-159.78\"/>\n",
       "<text text-anchor=\"middle\" x=\"243.89\" y=\"-170.33\" font-family=\"Helvetica,sans-Serif\" font-size=\"14.00\">False</text>\n",
       "</g>\n",
       "<!-- 2 -->\n",
       "<g id=\"node3\" class=\"node\">\n",
       "<title>2</title>\n",
       "<polygon fill=\"#399de5\" stroke=\"black\" points=\"108,-53 0,-53 0,0 108,0 108,-53\"/>\n",
       "<text text-anchor=\"middle\" x=\"54\" y=\"-37.8\" font-family=\"Helvetica,sans-Serif\" font-size=\"14.00\">samples = 1</text>\n",
       "<text text-anchor=\"middle\" x=\"54\" y=\"-22.8\" font-family=\"Helvetica,sans-Serif\" font-size=\"14.00\">value = [0, 1]</text>\n",
       "<text text-anchor=\"middle\" x=\"54\" y=\"-7.8\" font-family=\"Helvetica,sans-Serif\" font-size=\"14.00\">class = benign</text>\n",
       "</g>\n",
       "<!-- 1&#45;&gt;2 -->\n",
       "<g id=\"edge2\" class=\"edge\">\n",
       "<title>1&#45;&gt;2</title>\n",
       "<path fill=\"none\" stroke=\"black\" d=\"M97.57,-88.95C91.28,-80.07 84.46,-70.46 78.13,-61.54\"/>\n",
       "<polygon fill=\"black\" stroke=\"black\" points=\"80.89,-59.37 72.25,-53.24 75.18,-63.42 80.89,-59.37\"/>\n",
       "</g>\n",
       "<!-- 3 -->\n",
       "<g id=\"node4\" class=\"node\">\n",
       "<title>3</title>\n",
       "<polygon fill=\"#e58139\" stroke=\"black\" points=\"251.5,-53 126.5,-53 126.5,0 251.5,0 251.5,-53\"/>\n",
       "<text text-anchor=\"middle\" x=\"189\" y=\"-37.8\" font-family=\"Helvetica,sans-Serif\" font-size=\"14.00\">samples = 9</text>\n",
       "<text text-anchor=\"middle\" x=\"189\" y=\"-22.8\" font-family=\"Helvetica,sans-Serif\" font-size=\"14.00\">value = [9, 0]</text>\n",
       "<text text-anchor=\"middle\" x=\"189\" y=\"-7.8\" font-family=\"Helvetica,sans-Serif\" font-size=\"14.00\">class = malignant</text>\n",
       "</g>\n",
       "<!-- 1&#45;&gt;3 -->\n",
       "<g id=\"edge3\" class=\"edge\">\n",
       "<title>1&#45;&gt;3</title>\n",
       "<path fill=\"none\" stroke=\"black\" d=\"M144.78,-88.95C151.17,-80.07 158.08,-70.46 164.51,-61.54\"/>\n",
       "<polygon fill=\"black\" stroke=\"black\" points=\"167.48,-63.4 170.48,-53.24 161.8,-59.31 167.48,-63.4\"/>\n",
       "</g>\n",
       "</g>\n",
       "</svg>\n"
      ],
      "text/plain": [
       "<graphviz.sources.Source at 0x1fd67ad8518>"
      ]
     },
     "execution_count": 71,
     "metadata": {},
     "output_type": "execute_result"
    }
   ],
   "source": [
    "# 决策树绘图\n",
    "from sklearn.tree import export_graphviz\n",
    "\n",
    "export_graphviz(tree, out_file=\"tree.dot\", class_names=[\"malignant\",\"benign\"],\n",
    " impurity=False, filled=True)\n",
    "\n",
    "# 输出结果\n",
    "import graphviz\n",
    "\n",
    "with open(\"tree.dot\") as f:\n",
    "    dot_graph = f.read()\n",
    "    graphviz.Source(dot_graph)\n",
    "    graphviz.Source(dot_graph).render()\n",
    "    \n",
    "graphviz.Source(dot_graph)\n"
   ]
  },
  {
   "cell_type": "code",
   "execution_count": 72,
   "id": "188bb306",
   "metadata": {
    "scrolled": true
   },
   "outputs": [
    {
     "data": {
      "text/plain": [
       "array([0.  , 0.  , 0.  , 0.  , 0.  , 0.  , 0.  , 0.  , 0.  , 0.84, 0.16])"
      ]
     },
     "execution_count": 72,
     "metadata": {},
     "output_type": "execute_result"
    }
   ],
   "source": [
    "tree.feature_importances_"
   ]
  },
  {
   "cell_type": "code",
   "execution_count": 73,
   "id": "4fb8e549",
   "metadata": {},
   "outputs": [
    {
     "data": {
      "text/html": [
       "<div>\n",
       "<style scoped>\n",
       "    .dataframe tbody tr th:only-of-type {\n",
       "        vertical-align: middle;\n",
       "    }\n",
       "\n",
       "    .dataframe tbody tr th {\n",
       "        vertical-align: top;\n",
       "    }\n",
       "\n",
       "    .dataframe thead th {\n",
       "        text-align: right;\n",
       "    }\n",
       "</style>\n",
       "<table border=\"1\" class=\"dataframe\">\n",
       "  <thead>\n",
       "    <tr style=\"text-align: right;\">\n",
       "      <th></th>\n",
       "      <th>feature</th>\n",
       "      <th>importance</th>\n",
       "    </tr>\n",
       "  </thead>\n",
       "  <tbody>\n",
       "    <tr>\n",
       "      <th>9</th>\n",
       "      <td>Radscore</td>\n",
       "      <td>0.84</td>\n",
       "    </tr>\n",
       "    <tr>\n",
       "      <th>10</th>\n",
       "      <td>NLR</td>\n",
       "      <td>0.16</td>\n",
       "    </tr>\n",
       "    <tr>\n",
       "      <th>0</th>\n",
       "      <td>Over7cm</td>\n",
       "      <td>0.00</td>\n",
       "    </tr>\n",
       "    <tr>\n",
       "      <th>1</th>\n",
       "      <td>Infiltration</td>\n",
       "      <td>0.00</td>\n",
       "    </tr>\n",
       "    <tr>\n",
       "      <th>2</th>\n",
       "      <td>Arterial_enhanced</td>\n",
       "      <td>0.00</td>\n",
       "    </tr>\n",
       "  </tbody>\n",
       "</table>\n",
       "</div>"
      ],
      "text/plain": [
       "              feature  importance\n",
       "9            Radscore        0.84\n",
       "10                NLR        0.16\n",
       "0             Over7cm        0.00\n",
       "1        Infiltration        0.00\n",
       "2   Arterial_enhanced        0.00"
      ]
     },
     "execution_count": 73,
     "metadata": {},
     "output_type": "execute_result"
    }
   ],
   "source": [
    "import pandas as pd\n",
    "# Extract feature importances\n",
    "fi = pd.DataFrame({'feature': list(X_multiVA.columns),\n",
    "                   'importance': tree.feature_importances_}).\\\n",
    "                    sort_values('importance', ascending = False)\n",
    "fi.head()"
   ]
  },
  {
   "cell_type": "code",
   "execution_count": 41,
   "id": "108b40d5",
   "metadata": {
    "scrolled": true
   },
   "outputs": [
    {
     "ename": "AttributeError",
     "evalue": "'DataFrame' object has no attribute 'data'",
     "output_type": "error",
     "traceback": [
      "\u001b[1;31m---------------------------------------------------------------------------\u001b[0m",
      "\u001b[1;31mAttributeError\u001b[0m                            Traceback (most recent call last)",
      "\u001b[1;32m~\\AppData\\Local\\Temp/ipykernel_8360/2931386637.py\u001b[0m in \u001b[0;36m<module>\u001b[1;34m\u001b[0m\n\u001b[0;32m      6\u001b[0m     \u001b[0mplt\u001b[0m\u001b[1;33m.\u001b[0m\u001b[0mylabel\u001b[0m\u001b[1;33m(\u001b[0m\u001b[1;34m\"Feature\"\u001b[0m\u001b[1;33m)\u001b[0m\u001b[1;33m\u001b[0m\u001b[0m\n\u001b[0;32m      7\u001b[0m \u001b[1;33m\u001b[0m\u001b[0m\n\u001b[1;32m----> 8\u001b[1;33m \u001b[0mplot_feature_importances_cancer\u001b[0m\u001b[1;33m(\u001b[0m\u001b[0mtree\u001b[0m\u001b[1;33m)\u001b[0m\u001b[1;33m\u001b[0m\u001b[0m\n\u001b[0m",
      "\u001b[1;32m~\\AppData\\Local\\Temp/ipykernel_8360/2931386637.py\u001b[0m in \u001b[0;36mplot_feature_importances_cancer\u001b[1;34m(model)\u001b[0m\n\u001b[0;32m      1\u001b[0m \u001b[1;32mdef\u001b[0m \u001b[0mplot_feature_importances_cancer\u001b[0m\u001b[1;33m(\u001b[0m\u001b[0mmodel\u001b[0m\u001b[1;33m)\u001b[0m\u001b[1;33m:\u001b[0m\u001b[1;33m\u001b[0m\u001b[0m\n\u001b[1;32m----> 2\u001b[1;33m     \u001b[0mn_features\u001b[0m \u001b[1;33m=\u001b[0m \u001b[0mX\u001b[0m\u001b[1;33m.\u001b[0m\u001b[0mdata\u001b[0m\u001b[1;33m.\u001b[0m\u001b[0mshape\u001b[0m\u001b[1;33m[\u001b[0m\u001b[1;36m1\u001b[0m\u001b[1;33m]\u001b[0m\u001b[1;33m\u001b[0m\u001b[0m\n\u001b[0m\u001b[0;32m      3\u001b[0m     \u001b[0mplt\u001b[0m\u001b[1;33m.\u001b[0m\u001b[0mbarh\u001b[0m\u001b[1;33m(\u001b[0m\u001b[0mrange\u001b[0m\u001b[1;33m(\u001b[0m\u001b[0mn_features\u001b[0m\u001b[1;33m)\u001b[0m\u001b[1;33m,\u001b[0m \u001b[0mmodel\u001b[0m\u001b[1;33m.\u001b[0m\u001b[0mfeature_importances_\u001b[0m\u001b[1;33m,\u001b[0m \u001b[0malign\u001b[0m\u001b[1;33m=\u001b[0m\u001b[1;34m'center'\u001b[0m\u001b[1;33m)\u001b[0m\u001b[1;33m\u001b[0m\u001b[0m\n\u001b[0;32m      4\u001b[0m     \u001b[0mplt\u001b[0m\u001b[1;33m.\u001b[0m\u001b[0myticks\u001b[0m\u001b[1;33m(\u001b[0m\u001b[0mnp\u001b[0m\u001b[1;33m.\u001b[0m\u001b[0marange\u001b[0m\u001b[1;33m(\u001b[0m\u001b[0mn_features\u001b[0m\u001b[1;33m)\u001b[0m\u001b[1;33m,\u001b[0m \u001b[0mX\u001b[0m\u001b[1;33m.\u001b[0m\u001b[0mfeature_names\u001b[0m\u001b[1;33m)\u001b[0m\u001b[1;33m\u001b[0m\u001b[0m\n\u001b[0;32m      5\u001b[0m     \u001b[0mplt\u001b[0m\u001b[1;33m.\u001b[0m\u001b[0mxlabel\u001b[0m\u001b[1;33m(\u001b[0m\u001b[1;34m\"Feature importance\"\u001b[0m\u001b[1;33m)\u001b[0m\u001b[1;33m\u001b[0m\u001b[0m\n",
      "\u001b[1;32mc:\\users\\ttkky\\appdata\\local\\programs\\python\\python37\\lib\\site-packages\\pandas\\core\\generic.py\u001b[0m in \u001b[0;36m__getattr__\u001b[1;34m(self, name)\u001b[0m\n\u001b[0;32m   5139\u001b[0m             \u001b[1;32mif\u001b[0m \u001b[0mself\u001b[0m\u001b[1;33m.\u001b[0m\u001b[0m_info_axis\u001b[0m\u001b[1;33m.\u001b[0m\u001b[0m_can_hold_identifiers_and_holds_name\u001b[0m\u001b[1;33m(\u001b[0m\u001b[0mname\u001b[0m\u001b[1;33m)\u001b[0m\u001b[1;33m:\u001b[0m\u001b[1;33m\u001b[0m\u001b[0m\n\u001b[0;32m   5140\u001b[0m                 \u001b[1;32mreturn\u001b[0m \u001b[0mself\u001b[0m\u001b[1;33m[\u001b[0m\u001b[0mname\u001b[0m\u001b[1;33m]\u001b[0m\u001b[1;33m\u001b[0m\u001b[0m\n\u001b[1;32m-> 5141\u001b[1;33m             \u001b[1;32mreturn\u001b[0m \u001b[0mobject\u001b[0m\u001b[1;33m.\u001b[0m\u001b[0m__getattribute__\u001b[0m\u001b[1;33m(\u001b[0m\u001b[0mself\u001b[0m\u001b[1;33m,\u001b[0m \u001b[0mname\u001b[0m\u001b[1;33m)\u001b[0m\u001b[1;33m\u001b[0m\u001b[0m\n\u001b[0m\u001b[0;32m   5142\u001b[0m \u001b[1;33m\u001b[0m\u001b[0m\n\u001b[0;32m   5143\u001b[0m     \u001b[1;32mdef\u001b[0m \u001b[0m__setattr__\u001b[0m\u001b[1;33m(\u001b[0m\u001b[0mself\u001b[0m\u001b[1;33m,\u001b[0m \u001b[0mname\u001b[0m\u001b[1;33m:\u001b[0m \u001b[0mstr\u001b[0m\u001b[1;33m,\u001b[0m \u001b[0mvalue\u001b[0m\u001b[1;33m)\u001b[0m \u001b[1;33m->\u001b[0m \u001b[1;32mNone\u001b[0m\u001b[1;33m:\u001b[0m\u001b[1;33m\u001b[0m\u001b[0m\n",
      "\u001b[1;31mAttributeError\u001b[0m: 'DataFrame' object has no attribute 'data'"
     ]
    }
   ],
   "source": [
    "def plot_feature_importances_cancer(model):\n",
    "    n_features = X.data.shape[1]\n",
    "    plt.barh(range(n_features), model.feature_importances_, align='center')\n",
    "    plt.yticks(np.arange(n_features), X.feature_names)\n",
    "    plt.xlabel(\"Feature importance\")\n",
    "    plt.ylabel(\"Feature\")\n",
    "    \n",
    "plot_feature_importances_cancer(tree)"
   ]
  },
  {
   "cell_type": "code",
   "execution_count": 79,
   "id": "0bcc32b1",
   "metadata": {
    "scrolled": true
   },
   "outputs": [
    {
     "data": {
      "text/plain": [
       "RandomForestClassifier(n_estimators=5, random_state=2)"
      ]
     },
     "execution_count": 79,
     "metadata": {},
     "output_type": "execute_result"
    }
   ],
   "source": [
    "from sklearn.ensemble import RandomForestClassifier\n",
    "from sklearn.datasets import make_moons\n",
    "\n",
    "X, y = make_moons(n_samples=100, noise=0.25, random_state=3)\n",
    "X_train, X_test, y_train, y_test = train_test_split(X, y, stratify=y,\n",
    " random_state=42)\n",
    "\n",
    "forest = RandomForestClassifier(n_estimators=5, random_state=2)\n",
    "forest.fit(X_train, y_train)"
   ]
  },
  {
   "cell_type": "code",
   "execution_count": 81,
   "id": "6424d7e6",
   "metadata": {
    "scrolled": true
   },
   "outputs": [
    {
     "data": {
      "text/plain": [
       "[<matplotlib.lines.Line2D at 0x1fd655fe588>,\n",
       " <matplotlib.lines.Line2D at 0x1fd6566f9b0>]"
      ]
     },
     "execution_count": 81,
     "metadata": {},
     "output_type": "execute_result"
    },
    {
     "data": {
      "image/png": "[encoded data removed]",
      "text/plain": [
       "<Figure size 1440x720 with 6 Axes>"
      ]
     },
     "metadata": {},
     "output_type": "display_data"
    }
   ],
   "source": [
    "import mglearn\n",
    "\n",
    "fig, axes = plt.subplots(2, 3, figsize=(20, 10))\n",
    "for i, (ax, tree) in enumerate(zip(axes.ravel(), forest.estimators_)):\n",
    "    ax.set_title(\"Tree {}\".format(i))\n",
    "    mglearn.plots.plot_tree_partition(X_train, y_train, tree, ax=ax)\n",
    "\n",
    "mglearn.plots.plot_2d_separator(forest, X_train, fill=True, ax=axes[-1, -1],\n",
    " alpha=.4)\n",
    "axes[-1, -1].set_title(\"Random Forest\")\n",
    "    \n",
    "mglearn.discrete_scatter(X_train[:, 0], X_train[:, 1], y_train)"
   ]
  },
  {
   "cell_type": "code",
   "execution_count": 82,
   "id": "faa47192",
   "metadata": {},
   "outputs": [
    {
     "data": {
      "text/plain": [
       "RandomForestClassifier(n_estimators=5, random_state=2)"
      ]
     },
     "execution_count": 82,
     "metadata": {},
     "output_type": "execute_result"
    }
   ],
   "source": [
    "# 随机森林算法构建\n",
    "from sklearn.ensemble import RandomForestClassifier\n",
    "\n",
    "## 数据随机分组\n",
    "# X_train, X_test, y_train, y_test = train_test_split(X_multiVA, y_multiVA, test_size=0.25, random_state=10)\n",
    "\n",
    "# 算法构建\n",
    "forest = RandomForestClassifier(n_estimators=5, bootstrap = True,\n",
    "                               max_features = 'sqrt')\n",
    "forest.fit(X_multiVA, y_multiVA)"
   ]
  },
  {
   "cell_type": "code",
   "execution_count": 65,
   "id": "20e7c2f4",
   "metadata": {
    "scrolled": true
   },
   "outputs": [
    {
     "data": {
      "text/html": [
       "<div>\n",
       "<style scoped>\n",
       "    .dataframe tbody tr th:only-of-type {\n",
       "        vertical-align: middle;\n",
       "    }\n",
       "\n",
       "    .dataframe tbody tr th {\n",
       "        vertical-align: top;\n",
       "    }\n",
       "\n",
       "    .dataframe thead th {\n",
       "        text-align: right;\n",
       "    }\n",
       "</style>\n",
       "<table border=\"1\" class=\"dataframe\">\n",
       "  <thead>\n",
       "    <tr style=\"text-align: right;\">\n",
       "      <th></th>\n",
       "      <th>feature</th>\n",
       "      <th>importance</th>\n",
       "    </tr>\n",
       "  </thead>\n",
       "  <tbody>\n",
       "    <tr>\n",
       "      <th>9</th>\n",
       "      <td>Radscore</td>\n",
       "      <td>0.691163</td>\n",
       "    </tr>\n",
       "    <tr>\n",
       "      <th>10</th>\n",
       "      <td>NLR</td>\n",
       "      <td>0.120268</td>\n",
       "    </tr>\n",
       "    <tr>\n",
       "      <th>8</th>\n",
       "      <td>VP_grade</td>\n",
       "      <td>0.066667</td>\n",
       "    </tr>\n",
       "    <tr>\n",
       "      <th>5</th>\n",
       "      <td>Previous_treatment</td>\n",
       "      <td>0.054347</td>\n",
       "    </tr>\n",
       "    <tr>\n",
       "      <th>7</th>\n",
       "      <td>CP_score</td>\n",
       "      <td>0.032000</td>\n",
       "    </tr>\n",
       "  </tbody>\n",
       "</table>\n",
       "</div>"
      ],
      "text/plain": [
       "               feature  importance\n",
       "9             Radscore    0.691163\n",
       "10                 NLR    0.120268\n",
       "8             VP_grade    0.066667\n",
       "5   Previous_treatment    0.054347\n",
       "7             CP_score    0.032000"
      ]
     },
     "execution_count": 65,
     "metadata": {},
     "output_type": "execute_result"
    }
   ],
   "source": [
    "import pandas as pd\n",
    "# Extract feature importances\n",
    "fi = pd.DataFrame({'feature': list(X_multiVA.columns),\n",
    "                   'importance': forest.feature_importances_}).\\\n",
    "                    sort_values('importance', ascending = False)\n",
    "fi.head()"
   ]
  },
  {
   "cell_type": "code",
   "execution_count": 68,
   "id": "c7b1dce4",
   "metadata": {},
   "outputs": [
    {
     "ename": "AttributeError",
     "evalue": "'RandomForestClassifier' object has no attribute 'tree_'",
     "output_type": "error",
     "traceback": [
      "\u001b[1;31m---------------------------------------------------------------------------\u001b[0m",
      "\u001b[1;31mAttributeError\u001b[0m                            Traceback (most recent call last)",
      "\u001b[1;32m~\\AppData\\Local\\Temp/ipykernel_8360/2432022650.py\u001b[0m in \u001b[0;36m<module>\u001b[1;34m\u001b[0m\n\u001b[0;32m      3\u001b[0m \u001b[1;33m\u001b[0m\u001b[0m\n\u001b[0;32m      4\u001b[0m export_graphviz(forest, out_file=\"forest.dot\", class_names=[\"malignant\",\"benign\"],\n\u001b[1;32m----> 5\u001b[1;33m  impurity=False, filled=True)\n\u001b[0m\u001b[0;32m      6\u001b[0m \u001b[1;33m\u001b[0m\u001b[0m\n\u001b[0;32m      7\u001b[0m \u001b[1;31m# 输出结果\u001b[0m\u001b[1;33m\u001b[0m\u001b[1;33m\u001b[0m\u001b[0m\n",
      "\u001b[1;32mc:\\users\\ttkky\\appdata\\local\\programs\\python\\python37\\lib\\site-packages\\sklearn\\tree\\_export.py\u001b[0m in \u001b[0;36mexport_graphviz\u001b[1;34m(decision_tree, out_file, max_depth, feature_names, class_names, label, filled, leaves_parallel, impurity, node_ids, proportion, rotate, rounded, special_characters, precision, fontname)\u001b[0m\n\u001b[0;32m    888\u001b[0m             \u001b[0mfontname\u001b[0m\u001b[1;33m=\u001b[0m\u001b[0mfontname\u001b[0m\u001b[1;33m,\u001b[0m\u001b[1;33m\u001b[0m\u001b[0m\n\u001b[0;32m    889\u001b[0m         )\n\u001b[1;32m--> 890\u001b[1;33m         \u001b[0mexporter\u001b[0m\u001b[1;33m.\u001b[0m\u001b[0mexport\u001b[0m\u001b[1;33m(\u001b[0m\u001b[0mdecision_tree\u001b[0m\u001b[1;33m)\u001b[0m\u001b[1;33m\u001b[0m\u001b[0m\n\u001b[0m\u001b[0;32m    891\u001b[0m \u001b[1;33m\u001b[0m\u001b[0m\n\u001b[0;32m    892\u001b[0m         \u001b[1;32mif\u001b[0m \u001b[0mreturn_string\u001b[0m\u001b[1;33m:\u001b[0m\u001b[1;33m\u001b[0m\u001b[0m\n",
      "\u001b[1;32mc:\\users\\ttkky\\appdata\\local\\programs\\python\\python37\\lib\\site-packages\\sklearn\\tree\\_export.py\u001b[0m in \u001b[0;36mexport\u001b[1;34m(self, decision_tree)\u001b[0m\n\u001b[0;32m    460\u001b[0m             \u001b[0mself\u001b[0m\u001b[1;33m.\u001b[0m\u001b[0mrecurse\u001b[0m\u001b[1;33m(\u001b[0m\u001b[0mdecision_tree\u001b[0m\u001b[1;33m,\u001b[0m \u001b[1;36m0\u001b[0m\u001b[1;33m,\u001b[0m \u001b[0mcriterion\u001b[0m\u001b[1;33m=\u001b[0m\u001b[1;34m\"impurity\"\u001b[0m\u001b[1;33m)\u001b[0m\u001b[1;33m\u001b[0m\u001b[0m\n\u001b[0;32m    461\u001b[0m         \u001b[1;32melse\u001b[0m\u001b[1;33m:\u001b[0m\u001b[1;33m\u001b[0m\u001b[0m\n\u001b[1;32m--> 462\u001b[1;33m             \u001b[0mself\u001b[0m\u001b[1;33m.\u001b[0m\u001b[0mrecurse\u001b[0m\u001b[1;33m(\u001b[0m\u001b[0mdecision_tree\u001b[0m\u001b[1;33m.\u001b[0m\u001b[0mtree_\u001b[0m\u001b[1;33m,\u001b[0m \u001b[1;36m0\u001b[0m\u001b[1;33m,\u001b[0m \u001b[0mcriterion\u001b[0m\u001b[1;33m=\u001b[0m\u001b[0mdecision_tree\u001b[0m\u001b[1;33m.\u001b[0m\u001b[0mcriterion\u001b[0m\u001b[1;33m)\u001b[0m\u001b[1;33m\u001b[0m\u001b[0m\n\u001b[0m\u001b[0;32m    463\u001b[0m \u001b[1;33m\u001b[0m\u001b[0m\n\u001b[0;32m    464\u001b[0m         \u001b[0mself\u001b[0m\u001b[1;33m.\u001b[0m\u001b[0mtail\u001b[0m\u001b[1;33m(\u001b[0m\u001b[1;33m)\u001b[0m\u001b[1;33m\u001b[0m\u001b[0m\n",
      "\u001b[1;31mAttributeError\u001b[0m: 'RandomForestClassifier' object has no attribute 'tree_'"
     ]
    }
   ],
   "source": [
    "# 森林绘图\n",
    "from sklearn.tree import export_graphviz\n",
    "\n",
    "export_graphviz(forest, out_file=\"forest.dot\", class_names=[\"malignant\",\"benign\"],\n",
    " impurity=False, filled=True)\n",
    "\n",
    "# 输出结果\n",
    "import graphviz\n",
    "\n",
    "with open(\"forest.dot\") as f:\n",
    "    dot_graph = f.read()\n",
    "    graphviz.Source(dot_graph)\n",
    "    graphviz.Source(dot_graph).render()\n",
    "    \n",
    "graphviz.Source(dot_graph)\n"
   ]
  },
  {
   "cell_type": "code",
   "execution_count": 84,
   "id": "91c25d36",
   "metadata": {},
   "outputs": [
    {
     "ename": "TypeError",
     "evalue": "'(slice(None, None, None), 0)' is an invalid key",
     "output_type": "error",
     "traceback": [
      "\u001b[1;31m---------------------------------------------------------------------------\u001b[0m",
      "\u001b[1;31mTypeError\u001b[0m                                 Traceback (most recent call last)",
      "\u001b[1;32m~\\AppData\\Local\\Temp/ipykernel_8360/954942229.py\u001b[0m in \u001b[0;36m<module>\u001b[1;34m\u001b[0m\n\u001b[0;32m      6\u001b[0m \u001b[1;32mfor\u001b[0m \u001b[0mi\u001b[0m\u001b[1;33m,\u001b[0m \u001b[1;33m(\u001b[0m\u001b[0max\u001b[0m\u001b[1;33m,\u001b[0m \u001b[0mtree\u001b[0m\u001b[1;33m)\u001b[0m \u001b[1;32min\u001b[0m \u001b[0menumerate\u001b[0m\u001b[1;33m(\u001b[0m\u001b[0mzip\u001b[0m\u001b[1;33m(\u001b[0m\u001b[0maxes\u001b[0m\u001b[1;33m.\u001b[0m\u001b[0mravel\u001b[0m\u001b[1;33m(\u001b[0m\u001b[1;33m)\u001b[0m\u001b[1;33m,\u001b[0m \u001b[0mforest\u001b[0m\u001b[1;33m.\u001b[0m\u001b[0mestimators_\u001b[0m\u001b[1;33m)\u001b[0m\u001b[1;33m)\u001b[0m\u001b[1;33m:\u001b[0m\u001b[1;33m\u001b[0m\u001b[0m\n\u001b[0;32m      7\u001b[0m     \u001b[0max\u001b[0m\u001b[1;33m.\u001b[0m\u001b[0mset_title\u001b[0m\u001b[1;33m(\u001b[0m\u001b[1;34m\"Tree {}\"\u001b[0m\u001b[1;33m.\u001b[0m\u001b[0mformat\u001b[0m\u001b[1;33m(\u001b[0m\u001b[0mi\u001b[0m\u001b[1;33m)\u001b[0m\u001b[1;33m)\u001b[0m\u001b[1;33m\u001b[0m\u001b[0m\n\u001b[1;32m----> 8\u001b[1;33m     \u001b[0mmglearn\u001b[0m\u001b[1;33m.\u001b[0m\u001b[0mplots\u001b[0m\u001b[1;33m.\u001b[0m\u001b[0mplot_tree_partition\u001b[0m\u001b[1;33m(\u001b[0m\u001b[0mX_train\u001b[0m\u001b[1;33m,\u001b[0m \u001b[0my_train\u001b[0m\u001b[1;33m,\u001b[0m \u001b[0mtree\u001b[0m\u001b[1;33m,\u001b[0m \u001b[0max\u001b[0m\u001b[1;33m=\u001b[0m\u001b[0max\u001b[0m\u001b[1;33m)\u001b[0m\u001b[1;33m\u001b[0m\u001b[0m\n\u001b[0m\u001b[0;32m      9\u001b[0m \u001b[1;33m\u001b[0m\u001b[0m\n\u001b[0;32m     10\u001b[0m mglearn.plots.plot_2d_separator(forest, X_train, fill=True, ax=axes[-1, -1],\n",
      "\u001b[1;32mc:\\users\\ttkky\\appdata\\local\\programs\\python\\python37\\lib\\site-packages\\mglearn\\plot_interactive_tree.py\u001b[0m in \u001b[0;36mplot_tree_partition\u001b[1;34m(X, y, tree, ax)\u001b[0m\n\u001b[0;32m     65\u001b[0m     \u001b[0meps\u001b[0m \u001b[1;33m=\u001b[0m \u001b[0mX\u001b[0m\u001b[1;33m.\u001b[0m\u001b[0mstd\u001b[0m\u001b[1;33m(\u001b[0m\u001b[1;33m)\u001b[0m \u001b[1;33m/\u001b[0m \u001b[1;36m2.\u001b[0m\u001b[1;33m\u001b[0m\u001b[0m\n\u001b[0;32m     66\u001b[0m \u001b[1;33m\u001b[0m\u001b[0m\n\u001b[1;32m---> 67\u001b[1;33m     \u001b[0mx_min\u001b[0m\u001b[1;33m,\u001b[0m \u001b[0mx_max\u001b[0m \u001b[1;33m=\u001b[0m \u001b[0mX\u001b[0m\u001b[1;33m[\u001b[0m\u001b[1;33m:\u001b[0m\u001b[1;33m,\u001b[0m \u001b[1;36m0\u001b[0m\u001b[1;33m]\u001b[0m\u001b[1;33m.\u001b[0m\u001b[0mmin\u001b[0m\u001b[1;33m(\u001b[0m\u001b[1;33m)\u001b[0m \u001b[1;33m-\u001b[0m \u001b[0meps\u001b[0m\u001b[1;33m,\u001b[0m \u001b[0mX\u001b[0m\u001b[1;33m[\u001b[0m\u001b[1;33m:\u001b[0m\u001b[1;33m,\u001b[0m \u001b[1;36m0\u001b[0m\u001b[1;33m]\u001b[0m\u001b[1;33m.\u001b[0m\u001b[0mmax\u001b[0m\u001b[1;33m(\u001b[0m\u001b[1;33m)\u001b[0m \u001b[1;33m+\u001b[0m \u001b[0meps\u001b[0m\u001b[1;33m\u001b[0m\u001b[0m\n\u001b[0m\u001b[0;32m     68\u001b[0m     \u001b[0my_min\u001b[0m\u001b[1;33m,\u001b[0m \u001b[0my_max\u001b[0m \u001b[1;33m=\u001b[0m \u001b[0mX\u001b[0m\u001b[1;33m[\u001b[0m\u001b[1;33m:\u001b[0m\u001b[1;33m,\u001b[0m \u001b[1;36m1\u001b[0m\u001b[1;33m]\u001b[0m\u001b[1;33m.\u001b[0m\u001b[0mmin\u001b[0m\u001b[1;33m(\u001b[0m\u001b[1;33m)\u001b[0m \u001b[1;33m-\u001b[0m \u001b[0meps\u001b[0m\u001b[1;33m,\u001b[0m \u001b[0mX\u001b[0m\u001b[1;33m[\u001b[0m\u001b[1;33m:\u001b[0m\u001b[1;33m,\u001b[0m \u001b[1;36m1\u001b[0m\u001b[1;33m]\u001b[0m\u001b[1;33m.\u001b[0m\u001b[0mmax\u001b[0m\u001b[1;33m(\u001b[0m\u001b[1;33m)\u001b[0m \u001b[1;33m+\u001b[0m \u001b[0meps\u001b[0m\u001b[1;33m\u001b[0m\u001b[0m\n\u001b[0;32m     69\u001b[0m     \u001b[0mxx\u001b[0m \u001b[1;33m=\u001b[0m \u001b[0mnp\u001b[0m\u001b[1;33m.\u001b[0m\u001b[0mlinspace\u001b[0m\u001b[1;33m(\u001b[0m\u001b[0mx_min\u001b[0m\u001b[1;33m,\u001b[0m \u001b[0mx_max\u001b[0m\u001b[1;33m,\u001b[0m \u001b[1;36m1000\u001b[0m\u001b[1;33m)\u001b[0m\u001b[1;33m\u001b[0m\u001b[0m\n",
      "\u001b[1;32mc:\\users\\ttkky\\appdata\\local\\programs\\python\\python37\\lib\\site-packages\\pandas\\core\\frame.py\u001b[0m in \u001b[0;36m__getitem__\u001b[1;34m(self, key)\u001b[0m\n\u001b[0;32m   2904\u001b[0m             \u001b[1;32mif\u001b[0m \u001b[0mself\u001b[0m\u001b[1;33m.\u001b[0m\u001b[0mcolumns\u001b[0m\u001b[1;33m.\u001b[0m\u001b[0mnlevels\u001b[0m \u001b[1;33m>\u001b[0m \u001b[1;36m1\u001b[0m\u001b[1;33m:\u001b[0m\u001b[1;33m\u001b[0m\u001b[0m\n\u001b[0;32m   2905\u001b[0m                 \u001b[1;32mreturn\u001b[0m \u001b[0mself\u001b[0m\u001b[1;33m.\u001b[0m\u001b[0m_getitem_multilevel\u001b[0m\u001b[1;33m(\u001b[0m\u001b[0mkey\u001b[0m\u001b[1;33m)\u001b[0m\u001b[1;33m\u001b[0m\u001b[0m\n\u001b[1;32m-> 2906\u001b[1;33m             \u001b[0mindexer\u001b[0m \u001b[1;33m=\u001b[0m \u001b[0mself\u001b[0m\u001b[1;33m.\u001b[0m\u001b[0mcolumns\u001b[0m\u001b[1;33m.\u001b[0m\u001b[0mget_loc\u001b[0m\u001b[1;33m(\u001b[0m\u001b[0mkey\u001b[0m\u001b[1;33m)\u001b[0m\u001b[1;33m\u001b[0m\u001b[0m\n\u001b[0m\u001b[0;32m   2907\u001b[0m             \u001b[1;32mif\u001b[0m \u001b[0mis_integer\u001b[0m\u001b[1;33m(\u001b[0m\u001b[0mindexer\u001b[0m\u001b[1;33m)\u001b[0m\u001b[1;33m:\u001b[0m\u001b[1;33m\u001b[0m\u001b[0m\n\u001b[0;32m   2908\u001b[0m                 \u001b[0mindexer\u001b[0m \u001b[1;33m=\u001b[0m \u001b[1;33m[\u001b[0m\u001b[0mindexer\u001b[0m\u001b[1;33m]\u001b[0m\u001b[1;33m\u001b[0m\u001b[0m\n",
      "\u001b[1;32mc:\\users\\ttkky\\appdata\\local\\programs\\python\\python37\\lib\\site-packages\\pandas\\core\\indexes\\base.py\u001b[0m in \u001b[0;36mget_loc\u001b[1;34m(self, key, method, tolerance)\u001b[0m\n\u001b[0;32m   2896\u001b[0m             \u001b[0mcasted_key\u001b[0m \u001b[1;33m=\u001b[0m \u001b[0mself\u001b[0m\u001b[1;33m.\u001b[0m\u001b[0m_maybe_cast_indexer\u001b[0m\u001b[1;33m(\u001b[0m\u001b[0mkey\u001b[0m\u001b[1;33m)\u001b[0m\u001b[1;33m\u001b[0m\u001b[0m\n\u001b[0;32m   2897\u001b[0m             \u001b[1;32mtry\u001b[0m\u001b[1;33m:\u001b[0m\u001b[1;33m\u001b[0m\u001b[0m\n\u001b[1;32m-> 2898\u001b[1;33m                 \u001b[1;32mreturn\u001b[0m \u001b[0mself\u001b[0m\u001b[1;33m.\u001b[0m\u001b[0m_engine\u001b[0m\u001b[1;33m.\u001b[0m\u001b[0mget_loc\u001b[0m\u001b[1;33m(\u001b[0m\u001b[0mcasted_key\u001b[0m\u001b[1;33m)\u001b[0m\u001b[1;33m\u001b[0m\u001b[0m\n\u001b[0m\u001b[0;32m   2899\u001b[0m             \u001b[1;32mexcept\u001b[0m \u001b[0mKeyError\u001b[0m \u001b[1;32mas\u001b[0m \u001b[0merr\u001b[0m\u001b[1;33m:\u001b[0m\u001b[1;33m\u001b[0m\u001b[0m\n\u001b[0;32m   2900\u001b[0m                 \u001b[1;32mraise\u001b[0m \u001b[0mKeyError\u001b[0m\u001b[1;33m(\u001b[0m\u001b[0mkey\u001b[0m\u001b[1;33m)\u001b[0m \u001b[1;32mfrom\u001b[0m \u001b[0merr\u001b[0m\u001b[1;33m\u001b[0m\u001b[0m\n",
      "\u001b[1;32mpandas\\_libs\\index.pyx\u001b[0m in \u001b[0;36mpandas._libs.index.IndexEngine.get_loc\u001b[1;34m()\u001b[0m\n",
      "\u001b[1;32mpandas\\_libs\\index.pyx\u001b[0m in \u001b[0;36mpandas._libs.index.IndexEngine.get_loc\u001b[1;34m()\u001b[0m\n",
      "\u001b[1;31mTypeError\u001b[0m: '(slice(None, None, None), 0)' is an invalid key"
     ]
    },
    {
     "data": {
      "image/png": "[encoded data removed]",
      "text/plain": [
       "<Figure size 1440x720 with 6 Axes>"
      ]
     },
     "metadata": {
      "needs_background": "light"
     },
     "output_type": "display_data"
    }
   ],
   "source": [
    "# 随机森林图示\n",
    "\n",
    "import mglearn\n",
    "\n",
    "fig, axes = plt.subplots(2, 3, figsize=(20, 10))\n",
    "for i, (ax, tree) in enumerate(zip(axes.ravel(), forest.estimators_)):\n",
    "    ax.set_title(\"Tree {}\".format(i))\n",
    "    mglearn.plots.plot_tree_partition(X_train, y_train, tree, ax=ax)\n",
    "\n",
    "mglearn.plots.plot_2d_separator(forest, X_train, fill=True, ax=axes[-1, -1],\n",
    " alpha=.4)\n",
    "axes[-1, -1].set_title(\"Random Forest\")\n",
    "    \n",
    "mglearn.discrete_scatter(X_train[:, 0], X_train[:, 1], y_train)"
   ]
  }
 ],
 "metadata": {
  "kernelspec": {
   "display_name": "Python 3 (ipykernel)",
   "language": "python",
   "name": "python3"
  },
  "language_info": {
   "codemirror_mode": {
    "name": "ipython",
    "version": 3
   },
   "file_extension": ".py",
   "mimetype": "text/x-python",
   "name": "python",
   "nbconvert_exporter": "python",
   "pygments_lexer": "ipython3",
   "version": "3.7.0"
  }
 },
 "nbformat": 4,
 "nbformat_minor": 5
}
